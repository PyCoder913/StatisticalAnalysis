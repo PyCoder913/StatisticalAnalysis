{
  "metadata": {
    "kernelspec": {
      "language": "python",
      "display_name": "Python 3",
      "name": "python3"
    },
    "language_info": {
      "name": "python",
      "version": "3.10.13",
      "mimetype": "text/x-python",
      "codemirror_mode": {
        "name": "ipython",
        "version": 3
      },
      "pygments_lexer": "ipython3",
      "nbconvert_exporter": "python",
      "file_extension": ".py"
    },
    "kaggle": {
      "accelerator": "none",
      "dataSources": [
        {
          "sourceId": 6072054,
          "sourceType": "datasetVersion",
          "datasetId": 3475382
        },
        {
          "sourceId": 8277975,
          "sourceType": "datasetVersion",
          "datasetId": 4915672
        }
      ],
      "dockerImageVersionId": 30664,
      "isInternetEnabled": true,
      "language": "python",
      "sourceType": "notebook",
      "isGpuEnabled": false
    },
    "colab": {
      "name": "US Demographics & Cardiovascular Diseases",
      "provenance": [],
      "include_colab_link": true
    }
  },
  "nbformat_minor": 0,
  "nbformat": 4,
  "cells": [
    {
      "cell_type": "markdown",
      "metadata": {
        "id": "view-in-github",
        "colab_type": "text"
      },
      "source": [
        "<a href=\"https://colab.research.google.com/github/PyCoder913/StatisticalAnalysis/blob/master/US_Demographics_%26_Cardiovascular_Diseases.ipynb\" target=\"_parent\"><img src=\"https://colab.research.google.com/assets/colab-badge.svg\" alt=\"Open In Colab\"/></a>"
      ]
    },
    {
      "source": [
        "\n",
        "# IMPORTANT: RUN THIS CELL IN ORDER TO IMPORT YOUR KAGGLE DATA SOURCES\n",
        "# TO THE CORRECT LOCATION (/kaggle/input) IN YOUR NOTEBOOK,\n",
        "# THEN FEEL FREE TO DELETE THIS CELL.\n",
        "# NOTE: THIS NOTEBOOK ENVIRONMENT DIFFERS FROM KAGGLE'S PYTHON\n",
        "# ENVIRONMENT SO THERE MAY BE MISSING LIBRARIES USED BY YOUR\n",
        "# NOTEBOOK.\n",
        "\n",
        "import os\n",
        "import sys\n",
        "from tempfile import NamedTemporaryFile\n",
        "from urllib.request import urlopen\n",
        "from urllib.parse import unquote, urlparse\n",
        "from urllib.error import HTTPError\n",
        "from zipfile import ZipFile\n",
        "import tarfile\n",
        "import shutil\n",
        "\n",
        "CHUNK_SIZE = 40960\n",
        "DATA_SOURCE_MAPPING = 'cardiovascular-diseases-risk-prediction-dataset:https%3A%2F%2Fstorage.googleapis.com%2Fkaggle-data-sets%2F3475382%2F6072054%2Fbundle%2Farchive.zip%3FX-Goog-Algorithm%3DGOOG4-RSA-SHA256%26X-Goog-Credential%3Dgcp-kaggle-com%2540kaggle-161607.iam.gserviceaccount.com%252F20240503%252Fauto%252Fstorage%252Fgoog4_request%26X-Goog-Date%3D20240503T045310Z%26X-Goog-Expires%3D259200%26X-Goog-SignedHeaders%3Dhost%26X-Goog-Signature%3D48655ca066680441e790d42c23873c845a5d66e3f4b741632815eb0f7201c0ac6ede058c15ed6d9b3e48b367e82bbb00df96535aae3275b749891022560d55efce20a840304a2ec4fd28beea02af4d1a0a1effc9fd39f585eb135eae274bbe573334a9607f73f3495bb67fce2de14fe4e0581946aaa37c70b2dad7040c88d33a814a5a6a2420fed4c796b016279dd2711b00538daea714c5324a7d9a1403d70ea1335375dd16e22267f27c29065b887b29be247caa3291a5a44a35c1ccc970e76717ca0d190bcfe685b2e4e53646acefac9a1733b1350db5cb034d50ef9cbf945dc665c13a2384a0bb2f4e402ee4277d47683363fc1005710159cbfbe392c970,undersampled-data:https%3A%2F%2Fstorage.googleapis.com%2Fkaggle-data-sets%2F4915672%2F8277975%2Fbundle%2Farchive.zip%3FX-Goog-Algorithm%3DGOOG4-RSA-SHA256%26X-Goog-Credential%3Dgcp-kaggle-com%2540kaggle-161607.iam.gserviceaccount.com%252F20240503%252Fauto%252Fstorage%252Fgoog4_request%26X-Goog-Date%3D20240503T045310Z%26X-Goog-Expires%3D259200%26X-Goog-SignedHeaders%3Dhost%26X-Goog-Signature%3D9369f067aee559d37aafc70fb8417c01f46b307f701e7c876b4973012fb594b61ddc7e8cfe715a40c20b4864d2c14b2de07cafabf0b12ade2646a5031c1e52e7171ba1e3b970fcbd5ba71b085187d1a1c147692857682452441a6f15c8c0a57eac005e43e3f44589287e347ef0a6cbcbb292dea0ad240e86c663a665ecf9c06aef50680b0d9afa5037e3cb7ad1a170a50f6984451d69ef478b9d29c7f69d4fca614755af82102cb46b0b4c7d22242edfa9412615c9f63f5b9138b63fbf84c694039adfd6a7e4e66aaa5277df54215c5d200a6d08052314b7617f2b25fef8048c03a34961945defb9b65c1bb0fe1e901e7d5aff556c82ecaeaa67e8c2b9f0c119'\n",
        "\n",
        "KAGGLE_INPUT_PATH='/kaggle/input'\n",
        "KAGGLE_WORKING_PATH='/kaggle/working'\n",
        "KAGGLE_SYMLINK='kaggle'\n",
        "\n",
        "!umount /kaggle/input/ 2> /dev/null\n",
        "shutil.rmtree('/kaggle/input', ignore_errors=True)\n",
        "os.makedirs(KAGGLE_INPUT_PATH, 0o777, exist_ok=True)\n",
        "os.makedirs(KAGGLE_WORKING_PATH, 0o777, exist_ok=True)\n",
        "\n",
        "try:\n",
        "  os.symlink(KAGGLE_INPUT_PATH, os.path.join(\"..\", 'input'), target_is_directory=True)\n",
        "except FileExistsError:\n",
        "  pass\n",
        "try:\n",
        "  os.symlink(KAGGLE_WORKING_PATH, os.path.join(\"..\", 'working'), target_is_directory=True)\n",
        "except FileExistsError:\n",
        "  pass\n",
        "\n",
        "for data_source_mapping in DATA_SOURCE_MAPPING.split(','):\n",
        "    directory, download_url_encoded = data_source_mapping.split(':')\n",
        "    download_url = unquote(download_url_encoded)\n",
        "    filename = urlparse(download_url).path\n",
        "    destination_path = os.path.join(KAGGLE_INPUT_PATH, directory)\n",
        "    try:\n",
        "        with urlopen(download_url) as fileres, NamedTemporaryFile() as tfile:\n",
        "            total_length = fileres.headers['content-length']\n",
        "            print(f'Downloading {directory}, {total_length} bytes compressed')\n",
        "            dl = 0\n",
        "            data = fileres.read(CHUNK_SIZE)\n",
        "            while len(data) > 0:\n",
        "                dl += len(data)\n",
        "                tfile.write(data)\n",
        "                done = int(50 * dl / int(total_length))\n",
        "                sys.stdout.write(f\"\\r[{'=' * done}{' ' * (50-done)}] {dl} bytes downloaded\")\n",
        "                sys.stdout.flush()\n",
        "                data = fileres.read(CHUNK_SIZE)\n",
        "            if filename.endswith('.zip'):\n",
        "              with ZipFile(tfile) as zfile:\n",
        "                zfile.extractall(destination_path)\n",
        "            else:\n",
        "              with tarfile.open(tfile.name) as tarfile:\n",
        "                tarfile.extractall(destination_path)\n",
        "            print(f'\\nDownloaded and uncompressed: {directory}')\n",
        "    except HTTPError as e:\n",
        "        print(f'Failed to load (likely expired) {download_url} to path {destination_path}')\n",
        "        continue\n",
        "    except OSError as e:\n",
        "        print(f'Failed to load {download_url} to path {destination_path}')\n",
        "        continue\n",
        "\n",
        "print('Data source import complete.')\n"
      ],
      "metadata": {
        "id": "BvNOPzOUzKVC"
      },
      "cell_type": "code",
      "outputs": [],
      "execution_count": null
    },
    {
      "cell_type": "markdown",
      "source": [
        "# US Demographics & Cardiovascular Diseases"
      ],
      "metadata": {
        "id": "LmxFexfjzKVH"
      }
    },
    {
      "cell_type": "markdown",
      "source": [
        "The dataset provides a wealth of information on health parameters and demographics of US residents, making it ideal for exploring cardiovascular diseases. Through statistical analysis, the project aims to uncover insights transcending disciplinary boundaries. Methods like confidence\n",
        "interval estimation allow for robust inference on demographic parameters. Hypothesis testing helps to statistically verify claims on the demographic parameters, as well as identifies significant associations between population characteristics and heart diseases: aiding evidence-based strategies for public health and equitable outcomes."
      ],
      "metadata": {
        "id": "Apqgdqo_zKVJ"
      }
    },
    {
      "cell_type": "markdown",
      "source": [
        "### Importing the Necessary Libraries"
      ],
      "metadata": {
        "id": "LJPvl8ljzKVK"
      }
    },
    {
      "cell_type": "code",
      "source": [
        "import numpy as np\n",
        "import pandas as pd\n",
        "import matplotlib.pyplot as plt\n",
        "import seaborn as sns\n",
        "import scipy as sc\n",
        "import imblearn\n",
        "from scipy.stats import norm\n",
        "import math\n",
        "import scipy.stats as stats\n",
        "from scipy.stats import chi2_contingency\n",
        "\n",
        "import os\n",
        "for dirname, _, filenames in os.walk('/kaggle/input'):\n",
        "    for filename in filenames:\n",
        "        print(os.path.join(dirname, filename))"
      ],
      "metadata": {
        "execution": {
          "iopub.status.busy": "2024-05-01T06:10:07.751546Z",
          "iopub.execute_input": "2024-05-01T06:10:07.752083Z",
          "iopub.status.idle": "2024-05-01T06:10:07.769048Z",
          "shell.execute_reply.started": "2024-05-01T06:10:07.752047Z",
          "shell.execute_reply": "2024-05-01T06:10:07.767926Z"
        },
        "trusted": true,
        "id": "KYt2ikDEzKVK"
      },
      "execution_count": null,
      "outputs": []
    },
    {
      "cell_type": "markdown",
      "source": [
        "### Loading the Dataset"
      ],
      "metadata": {
        "id": "lEY2Uo0bzKVL"
      }
    },
    {
      "cell_type": "code",
      "source": [
        "dfo = pd.read_csv('/kaggle/input/cardiovascular-diseases-risk-prediction-dataset/CVD_cleaned.csv')\n",
        "dfo['index'] = dfo.index\n",
        "id_col = dfo['index']\n",
        "dfo.drop_duplicates()\n",
        "dfo.insert(loc = 0, column = 'ID', value = id_col)\n",
        "dfo.drop('index', axis=1, inplace=True)\n",
        "dfo.head()"
      ],
      "metadata": {
        "execution": {
          "iopub.status.busy": "2024-05-01T06:10:14.834631Z",
          "iopub.execute_input": "2024-05-01T06:10:14.835935Z",
          "iopub.status.idle": "2024-05-01T06:10:16.980097Z",
          "shell.execute_reply.started": "2024-05-01T06:10:14.835893Z",
          "shell.execute_reply": "2024-05-01T06:10:16.978854Z"
        },
        "trusted": true,
        "id": "B-KLUUBmzKVL"
      },
      "execution_count": null,
      "outputs": []
    },
    {
      "cell_type": "code",
      "source": [
        "dfo.describe()"
      ],
      "metadata": {
        "execution": {
          "iopub.status.busy": "2024-03-06T07:03:17.473376Z",
          "iopub.execute_input": "2024-03-06T07:03:17.473854Z",
          "iopub.status.idle": "2024-03-06T07:03:17.618445Z",
          "shell.execute_reply.started": "2024-03-06T07:03:17.473818Z",
          "shell.execute_reply": "2024-03-06T07:03:17.617565Z"
        },
        "trusted": true,
        "id": "15ZtZTUHzKVM"
      },
      "execution_count": null,
      "outputs": []
    },
    {
      "cell_type": "markdown",
      "source": [
        "# 1. Statistical Inference on Patient Demographic Data"
      ],
      "metadata": {
        "id": "IWriYO-ZzKVM"
      }
    },
    {
      "cell_type": "markdown",
      "source": [
        "## 1.1 Age & Gender"
      ],
      "metadata": {
        "id": "cLSbRybKzKVM"
      }
    },
    {
      "cell_type": "markdown",
      "source": [
        "- Considering the age range of residents is crucial for studying health trends. Elderly people are more prone to certain diseases than the young.\n",
        "- We look at how many people are in different age groups in the dataset. Residents in the dataset are between 18 and 85 years old, with a median age of 45 years.\n",
        "- This information helps healthcare providers and insurance companies design age-specific health plans and policies.\n",
        "- Dividing the ages from 18 to 80+ into 13 parts is a useful way to organize the data for analysis.\n",
        "    "
      ],
      "metadata": {
        "id": "kTf4Wz29zKVN"
      }
    },
    {
      "cell_type": "code",
      "source": [
        "plt.figure(figsize=(8,5))\n",
        "ages = dfo[\"Age_Category\"]\n",
        "ax = sns.countplot(data = dfo, x=\"Age_Category\", order=ages.value_counts().index)\n",
        "plt.xticks(rotation=90)\n",
        "plt.title(\"Age Categories of Residents\")\n",
        "plt.xlabel(\"Age Category\")\n",
        "plt.ylabel(\"Number of People\")\n",
        "patches = ax.patches\n",
        "for i in range(len(patches)):\n",
        "    offset = ages.value_counts().max() * 0.01\n",
        "    per_values = list(ages.value_counts())[i]/ages.value_counts().sum()\n",
        "    x = patches[i].get_x() + patches[i].get_width()/2\n",
        "    y = patches[i].get_height()+ offset\n",
        "    ax.annotate('{:.1f}%'.format(per_values*100), (x, y), ha='center', fontsize=9)\n",
        "\n",
        "plt.show()\n"
      ],
      "metadata": {
        "execution": {
          "iopub.status.busy": "2024-04-21T17:35:39.707389Z",
          "iopub.execute_input": "2024-04-21T17:35:39.70795Z",
          "iopub.status.idle": "2024-04-21T17:35:42.700903Z",
          "shell.execute_reply.started": "2024-04-21T17:35:39.707908Z",
          "shell.execute_reply": "2024-04-21T17:35:42.699661Z"
        },
        "trusted": true,
        "id": "sBK6gRwYzKVN"
      },
      "execution_count": null,
      "outputs": []
    },
    {
      "cell_type": "markdown",
      "source": [
        "- It is important to consider gender as a factor in the healthcare system.\n",
        "- Men, women, and others may have different health needs and risks.\n",
        "- Our dataset consists of two genders viz. Male and Female, and the proportion is given in the following figure."
      ],
      "metadata": {
        "id": "A84-ext9zKVN"
      }
    },
    {
      "cell_type": "code",
      "source": [
        "males = dfo.loc[dfo[\"Sex\"]==\"Male\", \"Sex\"].value_counts()\n",
        "males = int(males.iloc[0])\n",
        "females = dfo.loc[dfo[\"Sex\"]==\"Female\", \"Sex\"].value_counts()\n",
        "females = int(females.iloc[0])\n",
        "\n",
        "fig, ax = plt.subplots()\n",
        "labels = [\"Male\", \"Female\"]\n",
        "sizes = [males, females]\n",
        "ax.pie(sizes, labels=labels, autopct='%1.1f%%', shadow=True, startangle=90, colors=[\"Darkorchid\", \"Salmon\"])\n",
        "\n",
        "plt.title(\"Distribution of Gender\")\n",
        "plt.show()"
      ],
      "metadata": {
        "execution": {
          "iopub.status.busy": "2024-03-31T13:36:09.998138Z",
          "iopub.execute_input": "2024-03-31T13:36:09.999228Z",
          "iopub.status.idle": "2024-03-31T13:36:10.260749Z",
          "shell.execute_reply.started": "2024-03-31T13:36:09.999172Z",
          "shell.execute_reply": "2024-03-31T13:36:10.259246Z"
        },
        "trusted": true,
        "id": "gPMw__WrzKVN"
      },
      "execution_count": null,
      "outputs": []
    },
    {
      "cell_type": "markdown",
      "source": [
        "## 1.2 Analysis of Height Data"
      ],
      "metadata": {
        "id": "lCdxs3fvzKVO"
      }
    },
    {
      "cell_type": "markdown",
      "source": [
        "### 1.2.1 Distribution of Height (cm) of all Patients"
      ],
      "metadata": {
        "id": "SID9E_1zzKVO"
      }
    },
    {
      "cell_type": "markdown",
      "source": [
        "Height of the US residents is approximately normally distributed with mean $170.62 \\; cm$ and variance $113.59 \\; cm^2$."
      ],
      "metadata": {
        "id": "BD2kHVVHzKVO"
      }
    },
    {
      "cell_type": "code",
      "source": [
        "from scipy.stats import norm\n",
        "\n",
        "data = dfo['Height_(cm)'].tolist()\n",
        "\n",
        "# Fit a normal distribution to the data:\n",
        "mu, std = norm.fit(data)\n",
        "\n",
        "# Plot the histogram.\n",
        "plt.hist(data, bins=17, density=True, ec='k', color='purple')\n",
        "\n",
        "\n",
        "# Plot the PDF.\n",
        "\n",
        "x = np.linspace(125, 210, 100)\n",
        "p = norm.pdf(x, mu, std)\n",
        "plt.plot(x, p, 'k', linewidth=2)\n",
        "title = \"Distribution of Height (cm): Mean = %.2f,  STD = %.2f\" % (mu, std)\n",
        "plt.title(title)\n",
        "plt.xlabel(\"Height (in cm)\")\n",
        "plt.ylabel(\"Density\")\n"
      ],
      "metadata": {
        "execution": {
          "iopub.status.busy": "2024-03-22T09:57:26.865776Z",
          "iopub.execute_input": "2024-03-22T09:57:26.866254Z",
          "iopub.status.idle": "2024-03-22T09:57:28.670286Z",
          "shell.execute_reply.started": "2024-03-22T09:57:26.866216Z",
          "shell.execute_reply": "2024-03-22T09:57:28.669118Z"
        },
        "trusted": true,
        "id": "w6KWsxfJzKVO"
      },
      "execution_count": null,
      "outputs": []
    },
    {
      "cell_type": "code",
      "source": [
        "plt.figure(figsize=(7,5))\n",
        "plt.title(\"Distribution of Height (cm)\")\n",
        "ax = sns.histplot(dfo[\"Height_(cm)\"], bins=[x for x in range(130,221,5)], color='purple')\n",
        "plt.ylabel(\"Number of People\")\n",
        "plt.xlabel(\"Height(in cm)\")\n",
        "plt.xticks([x for x in range(130, 221, 5)], rotation=90)\n",
        "plt.show()"
      ],
      "metadata": {
        "execution": {
          "iopub.status.busy": "2024-03-22T10:11:22.238196Z",
          "iopub.execute_input": "2024-03-22T10:11:22.238619Z",
          "iopub.status.idle": "2024-03-22T10:11:23.039447Z",
          "shell.execute_reply.started": "2024-03-22T10:11:22.238585Z",
          "shell.execute_reply": "2024-03-22T10:11:23.03782Z"
        },
        "trusted": true,
        "id": "TppnmVeKzKVO"
      },
      "execution_count": null,
      "outputs": []
    },
    {
      "cell_type": "markdown",
      "source": [
        "#### Confidence Interval Estimation for Mean Height of the Population"
      ],
      "metadata": {
        "id": "tA-DjXPpzKVP"
      }
    },
    {
      "cell_type": "markdown",
      "source": [
        "##### t-values for 95% and 99% CIs with n-1 degrees of freedom (where n = number of samples)\n",
        "\n",
        "We need the value of $t_{\\frac{\\alpha}{2}, n-1}$, where for 95% CI, $\\alpha = 0.05$.\n",
        "\n",
        "Note that to the t.ppf function, we pass $q = 1 - \\frac{\\alpha}{2}$, that is $1 - 0.025 = 0.975$."
      ],
      "metadata": {
        "id": "bENrsgWKzKVP"
      }
    },
    {
      "cell_type": "code",
      "source": [
        "import scipy.stats as stats\n",
        "n = dfo.shape[0]\n",
        "# Note that the value of parameter q is 1 - (alpha/2). For 95% CI, we have alpha = 0.05\n",
        "t_95 = stats.t.ppf(q = 0.975, df=n-1)\n",
        "t_99 = stats.t.ppf(q = 0.995, df=n-1)\n",
        "print(\"t_95 = \", t_95)\n",
        "print(\"t_99 = \", t_99)"
      ],
      "metadata": {
        "execution": {
          "iopub.status.busy": "2024-04-02T07:36:28.240174Z",
          "iopub.execute_input": "2024-04-02T07:36:28.240545Z",
          "iopub.status.idle": "2024-04-02T07:36:28.25042Z",
          "shell.execute_reply.started": "2024-04-02T07:36:28.240517Z",
          "shell.execute_reply": "2024-04-02T07:36:28.249231Z"
        },
        "trusted": true,
        "id": "riOd2oWTzKVP"
      },
      "execution_count": null,
      "outputs": []
    },
    {
      "cell_type": "markdown",
      "source": [
        "Let $X_1, X_2, \\ldots, X_n$ are normally distributed with unknown mean $\\mu$ and variance $\\sigma^2$, then a $(1-\\alpha)100\\%$ confidence interval for the population mean $\\mu$ is: $$\\left(\\overline{X}-t_{\\alpha/2, n-1}\\left(\\frac{S}{\\sqrt{n}}\\right), \\; \\overline{X}+t_{\\alpha/2, n-1}\\left(\\frac{S}{\\sqrt{n}}\\right)\\right)$$"
      ],
      "metadata": {
        "id": "4suIfN6qzKVP"
      }
    },
    {
      "cell_type": "code",
      "source": [
        "heights = dfo[\"Height_(cm)\"].tolist()\n",
        "n = len(heights)\n",
        "\n",
        "sample_mean = np.mean(heights)\n",
        "sample_std = np.std(heights)\n",
        "print(\"Point estimate for population mean height (Sample mean): \", round(sample_mean, 3))\n",
        "\n",
        "#Lower bound for the CI of population mean (95% confidence)\n",
        "lb_pop_mean_95 = sample_mean - (t_95*(sample_std/math.sqrt(n)))\n",
        "#Upper bound for the CI of population mean (95% confidence)\n",
        "ub_pop_mean_95 = sample_mean + (t_95*(sample_std/math.sqrt(n)))\n",
        "\n",
        "#Lower bound for the CI of population mean (99% confidence)\n",
        "lb_pop_mean_99 = sample_mean - (t_99*(sample_std/math.sqrt(n)))\n",
        "#Upper bound for the CI of population mean (99% confidence)\n",
        "ub_pop_mean_99 = sample_mean + (t_99*(sample_std/math.sqrt(n)))\n",
        "\n",
        "print(\"The 95% Confidence Interval for the mean height of the population: ({},{})\".format(round(lb_pop_mean_95,3), round(ub_pop_mean_95,3)))\n",
        "print(\"The 99% Confidence Interval for the mean height of the population: ({}, {})\".format(round(lb_pop_mean_99,3), round(ub_pop_mean_99,3)))"
      ],
      "metadata": {
        "execution": {
          "iopub.status.busy": "2024-03-22T09:34:24.677214Z",
          "iopub.execute_input": "2024-03-22T09:34:24.677608Z",
          "iopub.status.idle": "2024-03-22T09:34:24.756748Z",
          "shell.execute_reply.started": "2024-03-22T09:34:24.677581Z",
          "shell.execute_reply": "2024-03-22T09:34:24.755636Z"
        },
        "trusted": true,
        "id": "NwNk4FaFzKVQ"
      },
      "execution_count": null,
      "outputs": []
    },
    {
      "cell_type": "markdown",
      "source": [
        "#### Confidence Interval for Population Variance & STD of Height\n",
        "\n",
        "$a = \\chi^2_{1-\\frac{\\alpha}{2}, n-1}$\n",
        "\n",
        "$b = \\chi^2_{\\frac{\\alpha}{2}, n-1}$\n",
        "\n",
        "Then a $(1-\\alpha) \\times 100\\%$ CI for the population variance is:\n",
        "\n",
        "$(\\frac{(n-1)S^2}{b}, \\frac{(n-1)S^2}{a})$\n",
        "\n",
        "Note that in the **stats.chi2.ppf()** function, we need to feed $\\alpha/2$ for calculating $a$ and $1-\\alpha/2$ for calculating $b$."
      ],
      "metadata": {
        "id": "JLo-kclKzKVQ"
      }
    },
    {
      "cell_type": "code",
      "source": [
        "n = dfo.shape[0]\n",
        "a_95 = stats.chi2.ppf(q=(0.05/2), df=n-1)\n",
        "b_95 = stats.chi2.ppf(q= 1-(0.05/2), df=n-1)\n",
        "a_99 = stats.chi2.ppf(q= 0.01/2, df=n-1)\n",
        "b_99 = stats.chi2.ppf(q= 1-(0.01/2), df=n-1)"
      ],
      "metadata": {
        "execution": {
          "iopub.status.busy": "2024-04-02T07:36:37.359891Z",
          "iopub.execute_input": "2024-04-02T07:36:37.360896Z",
          "iopub.status.idle": "2024-04-02T07:36:37.378144Z",
          "shell.execute_reply.started": "2024-04-02T07:36:37.360843Z",
          "shell.execute_reply": "2024-04-02T07:36:37.376933Z"
        },
        "trusted": true,
        "id": "L5SD5dgzzKVQ"
      },
      "execution_count": null,
      "outputs": []
    },
    {
      "cell_type": "code",
      "source": [
        "print(\"Chi^2 value for 95% CI (alpha = 0.05) and (n-1) degrees of freedom: \", a_95)\n",
        "print(\"Chi^2 value for 95% CI (alpha = 0.05) and (n-1) degrees of freedom: \", b_95)\n",
        "print(\"Chi^2 value for 99% CI (alpha = 0.05) and (n-1) degrees of freedom: \", a_99)\n",
        "print(\"Chi^2 value for 99% CI (alpha = 0.05) and (n-1) degrees of freedom: \", b_99)"
      ],
      "metadata": {
        "execution": {
          "iopub.status.busy": "2024-03-31T13:43:12.385153Z",
          "iopub.execute_input": "2024-03-31T13:43:12.385603Z",
          "iopub.status.idle": "2024-03-31T13:43:12.396509Z",
          "shell.execute_reply.started": "2024-03-31T13:43:12.385569Z",
          "shell.execute_reply": "2024-03-31T13:43:12.394703Z"
        },
        "trusted": true,
        "id": "PK-BJd6ezKVQ"
      },
      "execution_count": null,
      "outputs": []
    },
    {
      "cell_type": "code",
      "source": [
        "# Population Variance of Heights\n",
        "\n",
        "heights = dfo[\"Height_(cm)\"].tolist()\n",
        "n = len(heights)\n",
        "N = (n-1)/n\n",
        "\n",
        "sample_var = np.var(heights)\n",
        "print(\"Point estimate for the population variance of height: \", round(N*sample_var,3))\n",
        "\n",
        "#Lower bound for the CI of population variance (95% confidence)\n",
        "lb_pop_var_95 = ((n-1)*sample_var)/b_95\n",
        "#Upper bound for the CI of population variance (95% confidence)\n",
        "ub_pop_var_95 = ((n-1)*sample_var)/a_95\n",
        "\n",
        "#Lower bound for the CI of population variance (99% confidence)\n",
        "lb_pop_var_99 = ((n-1)*sample_var)/b_99\n",
        "#Upper bound for the CI of population variance (99% confidence)\n",
        "ub_pop_var_99 = ((n-1)*sample_var)/a_99\n",
        "\n",
        "print(\"The 95% Confidence Interval for the population variance of height: ({}, {})\".format(round(lb_pop_var_95,3), round(ub_pop_var_95,3)))\n",
        "print(\"The 99% Confidence Interval for the population variance of height: ({}, {})\".format(round(lb_pop_var_99,3), round(ub_pop_var_99,3)))"
      ],
      "metadata": {
        "execution": {
          "iopub.status.busy": "2024-04-02T07:38:55.636316Z",
          "iopub.execute_input": "2024-04-02T07:38:55.636823Z",
          "iopub.status.idle": "2024-04-02T07:38:55.697253Z",
          "shell.execute_reply.started": "2024-04-02T07:38:55.636782Z",
          "shell.execute_reply": "2024-04-02T07:38:55.695851Z"
        },
        "trusted": true,
        "id": "RyzlEiNzzKVR"
      },
      "execution_count": null,
      "outputs": []
    },
    {
      "cell_type": "code",
      "source": [
        "# Population Standard Deviation of Heights\n",
        "\n",
        "heights = dfo[\"Height_(cm)\"].tolist()\n",
        "n = len(heights)\n",
        "N = (n-1)/n\n",
        "\n",
        "sample_std = np.std(heights)\n",
        "print(\"Point estimate for the standard deviation: \", round(math.sqrt(N)*sample_std,3))\n",
        "\n",
        "#Lower bound for the CI of population STD (95% confidence)\n",
        "lb_pop_std_95 = math.sqrt((n-1)/b_95)*sample_std\n",
        "#Upper bound for the CI of population STD (95% confidence)\n",
        "ub_pop_std_95 = math.sqrt((n-1)/a_95)*sample_std\n",
        "\n",
        "#Lower bound for the CI of population STD (99% confidence)\n",
        "lb_pop_std_99 = math.sqrt((n-1)/b_99)*sample_std\n",
        "#Upper bound for the CI of population STD (99% confidence)\n",
        "ub_pop_std_99 = math.sqrt((n-1)/a_99)*sample_std\n",
        "\n",
        "print(\"The 95% Confidence Interval for the population STD of height: ({}, {})\".format(round(lb_pop_std_95,3), round(ub_pop_std_95,3)))\n",
        "print(\"The 99% Confidence Interval for the population STD of height: ({}, {})\".format(round(lb_pop_std_99,3), round(ub_pop_std_99,3)))"
      ],
      "metadata": {
        "execution": {
          "iopub.status.busy": "2024-04-02T07:39:30.522003Z",
          "iopub.execute_input": "2024-04-02T07:39:30.522401Z",
          "iopub.status.idle": "2024-04-02T07:39:30.579227Z",
          "shell.execute_reply.started": "2024-04-02T07:39:30.522373Z",
          "shell.execute_reply": "2024-04-02T07:39:30.578031Z"
        },
        "trusted": true,
        "id": "SXDugMKRzKVR"
      },
      "execution_count": null,
      "outputs": []
    },
    {
      "cell_type": "markdown",
      "source": [
        "### 1.2.2 Height Distribution by Gender: Male Residents"
      ],
      "metadata": {
        "id": "12pHYX7nzKVS"
      }
    },
    {
      "cell_type": "code",
      "source": [
        "df_male = dfo.loc[dfo[\"Sex\"]==\"Male\", :]\n",
        "df_male.head()"
      ],
      "metadata": {
        "execution": {
          "iopub.status.busy": "2024-04-09T07:31:46.716559Z",
          "iopub.execute_input": "2024-04-09T07:31:46.717423Z",
          "iopub.status.idle": "2024-04-09T07:31:46.844442Z",
          "shell.execute_reply.started": "2024-04-09T07:31:46.717385Z",
          "shell.execute_reply": "2024-04-09T07:31:46.843284Z"
        },
        "trusted": true,
        "id": "AOT6IVrhzKVS"
      },
      "execution_count": null,
      "outputs": []
    },
    {
      "cell_type": "code",
      "source": [
        "print(\"Number of male residents:\", df_male.shape[0])"
      ],
      "metadata": {
        "execution": {
          "iopub.status.busy": "2024-04-09T07:32:09.665181Z",
          "iopub.execute_input": "2024-04-09T07:32:09.665583Z",
          "iopub.status.idle": "2024-04-09T07:32:09.672331Z",
          "shell.execute_reply.started": "2024-04-09T07:32:09.665552Z",
          "shell.execute_reply": "2024-04-09T07:32:09.670661Z"
        },
        "trusted": true,
        "id": "Dm6zk5P6zKVT"
      },
      "execution_count": null,
      "outputs": []
    },
    {
      "cell_type": "code",
      "source": [
        "#Height of Male Residents\n",
        "\n",
        "plt.figure(figsize=(7,5))\n",
        "plt.title(\"Distribution of Height (cm) of Male Residents\")\n",
        "ax = sns.histplot(df_male[\"Height_(cm)\"], bins=[x for x in range(140,221,5)])\n",
        "plt.ylabel(\"Number of Males\")\n",
        "plt.xlabel(\"Height(in cm)\")\n",
        "plt.xticks([x for x in range(140, 221, 5)], rotation=90)\n",
        "plt.show()"
      ],
      "metadata": {
        "execution": {
          "iopub.status.busy": "2024-03-22T07:12:15.531516Z",
          "iopub.execute_input": "2024-03-22T07:12:15.532547Z",
          "iopub.status.idle": "2024-03-22T07:12:16.180512Z",
          "shell.execute_reply.started": "2024-03-22T07:12:15.532508Z",
          "shell.execute_reply": "2024-03-22T07:12:16.179098Z"
        },
        "trusted": true,
        "id": "X7AYyfq7zKVT"
      },
      "execution_count": null,
      "outputs": []
    },
    {
      "cell_type": "code",
      "source": [
        "from scipy.stats import norm\n",
        "\n",
        "data = df_male['Height_(cm)'].tolist()\n",
        "\n",
        "# Fit a normal distribution to the data:\n",
        "mu, std = norm.fit(data)\n",
        "\n",
        "# Plot the histogram.\n",
        "plt.hist(data, bins=20, density=True, ec='k')\n",
        "\n",
        "\n",
        "# Plot the PDF.\n",
        "\n",
        "x = np.linspace(125, 210, 100)\n",
        "p = norm.pdf(x, mu, std)\n",
        "plt.plot(x, p, 'k', linewidth=2)\n",
        "title = \"Distribution of Height of Male (cm): Mean = %.2f,  STD = %.2f\" % (mu, std)\n",
        "plt.title(title)\n",
        "plt.xlabel(\"Height (in cm)\")\n",
        "plt.ylabel(\"Density\")\n"
      ],
      "metadata": {
        "execution": {
          "iopub.status.busy": "2024-03-07T06:10:35.807706Z",
          "iopub.execute_input": "2024-03-07T06:10:35.808163Z",
          "iopub.status.idle": "2024-03-07T06:10:36.85813Z",
          "shell.execute_reply.started": "2024-03-07T06:10:35.808129Z",
          "shell.execute_reply": "2024-03-07T06:10:36.856611Z"
        },
        "trusted": true,
        "id": "zJyZWpyvzKVT"
      },
      "execution_count": null,
      "outputs": []
    },
    {
      "cell_type": "code",
      "source": [
        "# Confidence Interval Estimation for Mean Height of Male Population\n",
        "\n",
        "male_heights = df_male[\"Height_(cm)\"].tolist()\n",
        "n = len(male_heights)\n",
        "t_95 = stats.t.ppf(q = 0.975, df=n-1)\n",
        "t_99 = stats.t.ppf(q = 0.995, df=n-1)\n",
        "\n",
        "sample_mean = np.mean(male_heights)\n",
        "sample_std = np.std(male_heights)\n",
        "print(\"Point estimate for the mean population height of the male patients: \", round(sample_mean, 3))\n",
        "\n",
        "#Lower bound for the CI of population mean (95% confidence)\n",
        "lb_pop_mean_95 = sample_mean - (t_95*(sample_std/math.sqrt(n)))\n",
        "#Upper bound for the CI of population mean (95% confidence)\n",
        "ub_pop_mean_95 = sample_mean + (t_95*(sample_std/math.sqrt(n)))\n",
        "\n",
        "#Lower bound for the CI of population mean (99% confidence)\n",
        "lb_pop_mean_99 = sample_mean - (t_99*(sample_std/math.sqrt(n)))\n",
        "#Upper bound for the CI of population mean (99% confidence)\n",
        "ub_pop_mean_99 = sample_mean + (t_99*(sample_std/math.sqrt(n)))\n",
        "\n",
        "print(\"The 95% Confidence Interval for the mean height of the Male population: ({},{})\".format(round(lb_pop_mean_95,3), round(ub_pop_mean_95,3)))\n",
        "print(\"The 99% Confidence Interval for the mean height of the Male population: ({}, {})\".format(round(lb_pop_mean_99,3), round(ub_pop_mean_99,3)))"
      ],
      "metadata": {
        "execution": {
          "iopub.status.busy": "2024-03-22T09:35:49.490982Z",
          "iopub.execute_input": "2024-03-22T09:35:49.491368Z",
          "iopub.status.idle": "2024-03-22T09:35:49.537745Z",
          "shell.execute_reply.started": "2024-03-22T09:35:49.49134Z",
          "shell.execute_reply": "2024-03-22T09:35:49.536519Z"
        },
        "trusted": true,
        "id": "jeFnHAPgzKVT"
      },
      "execution_count": null,
      "outputs": []
    },
    {
      "cell_type": "code",
      "source": [
        "# Confidence Interval Estimation for STD of Height of Male Population\n",
        "\n",
        "male_heights = df_male[\"Height_(cm)\"].tolist()\n",
        "n = len(male_heights)\n",
        "a_95 = stats.chi2.ppf(q=(0.05/2), df=n-1)\n",
        "b_95 = stats.chi2.ppf(q= 1-(0.05/2), df=n-1)\n",
        "a_99 = stats.chi2.ppf(q= 0.01/2, df=n-1)\n",
        "b_99 = stats.chi2.ppf(q= 1-(0.01/2), df=n-1)\n",
        "N = (n-1)/n\n",
        "\n",
        "sample_std = np.std(male_heights)\n",
        "print(\"Point estimate for the STD of height of the population of male patients: \", round(math.sqrt(N)*sample_std, 3))\n",
        "\n",
        "#Lower bound for the CI of population STD (95% confidence)\n",
        "lb_pop_std_95 = math.sqrt((n-1)/b_95)*sample_std\n",
        "#Upper bound for the CI of population STD (95% confidence)\n",
        "ub_pop_std_95 = math.sqrt((n-1)/a_95)*sample_std\n",
        "\n",
        "#Lower bound for the CI of population STD (99% confidence)\n",
        "lb_pop_std_99 = math.sqrt((n-1)/b_99)*sample_std\n",
        "#Upper bound for the CI of population STD (99% confidence)\n",
        "ub_pop_std_99 = math.sqrt((n-1)/a_99)*sample_std\n",
        "\n",
        "print(\"The 95% Confidence Interval for population STD of height of male patients: ({}, {})\".format(round(lb_pop_std_95,3), round(ub_pop_std_95,3)))\n",
        "print(\"The 99% Confidence Interval for population STD of height of male patients: ({}, {})\".format(round(lb_pop_std_99,3), round(ub_pop_std_99,3)))"
      ],
      "metadata": {
        "execution": {
          "iopub.status.busy": "2024-04-02T07:44:16.493752Z",
          "iopub.execute_input": "2024-04-02T07:44:16.49415Z",
          "iopub.status.idle": "2024-04-02T07:44:16.531441Z",
          "shell.execute_reply.started": "2024-04-02T07:44:16.49412Z",
          "shell.execute_reply": "2024-04-02T07:44:16.530291Z"
        },
        "trusted": true,
        "id": "9rpNxEr_zKVU"
      },
      "execution_count": null,
      "outputs": []
    },
    {
      "cell_type": "code",
      "source": [
        "# Population Variance of Heights of Male Patients\n",
        "\n",
        "male_heights = df_male[\"Height_(cm)\"].tolist()\n",
        "n = len(male_heights)\n",
        "a_95 = stats.chi2.ppf(q=(0.05/2), df=n-1)\n",
        "b_95 = stats.chi2.ppf(q= 1-(0.05/2), df=n-1)\n",
        "a_99 = stats.chi2.ppf(q= 0.01/2, df=n-1)\n",
        "b_99 = stats.chi2.ppf(q= 1-(0.01/2), df=n-1)\n",
        "N = (n-1)/n\n",
        "\n",
        "\n",
        "sample_var = np.var(male_heights)\n",
        "print(\"Point estimate for the population variance of height of male patients: \", round(N*sample_var,3))\n",
        "\n",
        "#Lower bound for the CI of population variance (95% confidence)\n",
        "lb_pop_var_95 = ((n-1)*sample_var)/b_95\n",
        "#Upper bound for the CI of population variance (95% confidence)\n",
        "ub_pop_var_95 = ((n-1)*sample_var)/a_95\n",
        "\n",
        "#Lower bound for the CI of population variance (99% confidence)\n",
        "lb_pop_var_99 = ((n-1)*sample_var)/b_99\n",
        "#Upper bound for the CI of population variance (99% confidence)\n",
        "ub_pop_var_99 = ((n-1)*sample_var)/a_99\n",
        "\n",
        "print(\"The 95% Confidence Interval for the population variance of height of male patients: ({}, {})\".format(round(lb_pop_var_95,3), round(ub_pop_var_95,3)))\n",
        "print(\"The 99% Confidence Interval for the population variance of height of male patients: ({}, {})\".format(round(lb_pop_var_99,3), round(ub_pop_var_99,3)))"
      ],
      "metadata": {
        "execution": {
          "iopub.status.busy": "2024-04-02T07:43:37.93534Z",
          "iopub.execute_input": "2024-04-02T07:43:37.935722Z",
          "iopub.status.idle": "2024-04-02T07:43:37.970421Z",
          "shell.execute_reply.started": "2024-04-02T07:43:37.935695Z",
          "shell.execute_reply": "2024-04-02T07:43:37.969567Z"
        },
        "trusted": true,
        "id": "g62oSk0IzKVU"
      },
      "execution_count": null,
      "outputs": []
    },
    {
      "cell_type": "markdown",
      "source": [
        "### 1.2.3 Height Distribution by Gender: Female Residents"
      ],
      "metadata": {
        "id": "PDEle3RBzKVU"
      }
    },
    {
      "cell_type": "code",
      "source": [
        "df_female = dfo.loc[dfo[\"Sex\"]==\"Female\", :]\n",
        "df_female.head()"
      ],
      "metadata": {
        "execution": {
          "iopub.status.busy": "2024-04-09T07:32:57.750704Z",
          "iopub.execute_input": "2024-04-09T07:32:57.751942Z",
          "iopub.status.idle": "2024-04-09T07:32:57.883006Z",
          "shell.execute_reply.started": "2024-04-09T07:32:57.751903Z",
          "shell.execute_reply": "2024-04-09T07:32:57.881777Z"
        },
        "trusted": true,
        "id": "jhxF_EyczKVU"
      },
      "execution_count": null,
      "outputs": []
    },
    {
      "cell_type": "code",
      "source": [
        "print(\"Number of female residents:\", df_female.shape[0])"
      ],
      "metadata": {
        "execution": {
          "iopub.status.busy": "2024-04-09T07:33:16.647708Z",
          "iopub.execute_input": "2024-04-09T07:33:16.648165Z",
          "iopub.status.idle": "2024-04-09T07:33:16.655158Z",
          "shell.execute_reply.started": "2024-04-09T07:33:16.648125Z",
          "shell.execute_reply": "2024-04-09T07:33:16.654002Z"
        },
        "trusted": true,
        "id": "IxVj5FAnzKVa"
      },
      "execution_count": null,
      "outputs": []
    },
    {
      "cell_type": "code",
      "source": [
        "#Height of Female Patients\n",
        "\n",
        "plt.figure(figsize=(7,5))\n",
        "plt.title(\"Distribution of Height (cm) of Female Residents\")\n",
        "ax = sns.histplot(df_female[\"Height_(cm)\"], bins=[x for x in range(125,201,5)], color='deeppink')\n",
        "plt.ylabel(\"Number of Female Patients\")\n",
        "plt.xlabel(\"Height(in cm)\")\n",
        "plt.xticks([x for x in range(125, 201, 5)], rotation=90)\n",
        "plt.show()"
      ],
      "metadata": {
        "execution": {
          "iopub.status.busy": "2024-03-24T07:11:59.124574Z",
          "iopub.execute_input": "2024-03-24T07:11:59.125288Z",
          "iopub.status.idle": "2024-03-24T07:11:59.696989Z",
          "shell.execute_reply.started": "2024-03-24T07:11:59.125253Z",
          "shell.execute_reply": "2024-03-24T07:11:59.694358Z"
        },
        "trusted": true,
        "id": "TTkh3I1VzKVa"
      },
      "execution_count": null,
      "outputs": []
    },
    {
      "cell_type": "code",
      "source": [
        "from scipy.stats import norm\n",
        "\n",
        "data = df_female['Height_(cm)'].tolist()\n",
        "\n",
        "# Fit a normal distribution to the data:\n",
        "mu, std = norm.fit(data)\n",
        "\n",
        "# Plot the histogram.\n",
        "plt.hist(data, bins=20, density=True, ec='k', color='deeppink')\n",
        "\n",
        "\n",
        "# Plot the PDF.\n",
        "\n",
        "x = np.linspace(125, 210, 100)\n",
        "p = norm.pdf(x, mu, std)\n",
        "plt.plot(x, p, 'k', linewidth=2)\n",
        "title = \"Distribution of Height of Female (cm): Mean = %.2f,  STD = %.2f\" % (mu, std)\n",
        "plt.title(title)\n",
        "plt.xlabel(\"Height (in cm)\")\n",
        "plt.ylabel(\"Density\")\n"
      ],
      "metadata": {
        "execution": {
          "iopub.status.busy": "2024-03-24T07:12:12.66056Z",
          "iopub.execute_input": "2024-03-24T07:12:12.660986Z",
          "iopub.status.idle": "2024-03-24T07:12:13.765989Z",
          "shell.execute_reply.started": "2024-03-24T07:12:12.660956Z",
          "shell.execute_reply": "2024-03-24T07:12:13.764882Z"
        },
        "trusted": true,
        "id": "LawMB5wozKVa"
      },
      "execution_count": null,
      "outputs": []
    },
    {
      "cell_type": "code",
      "source": [
        "# Confidence Interval Estimation for Mean Height of Female Population\n",
        "\n",
        "female_heights = df_female[\"Height_(cm)\"].tolist()\n",
        "n = len(female_heights)\n",
        "\n",
        "t_95 = stats.t.ppf(q = 0.975, df=n-1)\n",
        "t_99 = stats.t.ppf(q = 0.995, df=n-1)\n",
        "\n",
        "sample_mean = np.mean(female_heights)\n",
        "sample_std = np.std(female_heights)\n",
        "print(\"Point estimate for the mean population height of female patients: \", round(sample_mean, 3))\n",
        "\n",
        "#Lower bound for the CI of population mean (95% confidence)\n",
        "lb_pop_mean_95 = sample_mean - (t_95*(sample_std/math.sqrt(n)))\n",
        "#Upper bound for the CI of population mean (95% confidence)\n",
        "ub_pop_mean_95 = sample_mean + (t_95*(sample_std/math.sqrt(n)))\n",
        "\n",
        "#Lower bound for the CI of population mean (99% confidence)\n",
        "lb_pop_mean_99 = sample_mean - (t_99*(sample_std/math.sqrt(n)))\n",
        "#Upper bound for the CI of population mean (99% confidence)\n",
        "ub_pop_mean_99 = sample_mean + (t_99*(sample_std/math.sqrt(n)))\n",
        "\n",
        "print(\"The 95% Confidence Interval for the mean height of the Female population: ({}, {})\".format(round(lb_pop_mean_95,3), round(ub_pop_mean_95,3)))\n",
        "print(\"The 99% Confidence Interval for the mean height of the Female population: ({}, {})\".format(round(lb_pop_mean_99,3), round(ub_pop_mean_99,3)))"
      ],
      "metadata": {
        "execution": {
          "iopub.status.busy": "2024-03-24T08:20:46.919585Z",
          "iopub.execute_input": "2024-03-24T08:20:46.920004Z",
          "iopub.status.idle": "2024-03-24T08:20:46.96634Z",
          "shell.execute_reply.started": "2024-03-24T08:20:46.919975Z",
          "shell.execute_reply": "2024-03-24T08:20:46.965187Z"
        },
        "trusted": true,
        "id": "jeWsjUKGzKVa"
      },
      "execution_count": null,
      "outputs": []
    },
    {
      "cell_type": "code",
      "source": [
        "# Confidence Interval Estimation for STD of Height of Female Population\n",
        "\n",
        "female_heights = df_female[\"Height_(cm)\"].tolist()\n",
        "n = len(female_heights)\n",
        "a_95 = stats.chi2.ppf(q=(0.05/2), df=n-1)\n",
        "b_95 = stats.chi2.ppf(q= 1-(0.05/2), df=n-1)\n",
        "a_99 = stats.chi2.ppf(q= 0.01/2, df=n-1)\n",
        "b_99 = stats.chi2.ppf(q= 1-(0.01/2), df=n-1)\n",
        "N = (n-1)/n\n",
        "\n",
        "sample_std = np.std(female_heights)\n",
        "print(\"Point estimate for the STD of the population of female patients: \", round(math.sqrt(N)*sample_std, 3))\n",
        "\n",
        "#Lower bound for the CI of population STD (95% confidence)\n",
        "lb_pop_std_95 = math.sqrt((n-1)/b_95)*sample_std\n",
        "#Upper bound for the CI of population STD (95% confidence)\n",
        "ub_pop_std_95 = math.sqrt((n-1)/a_95)*sample_std\n",
        "\n",
        "#Lower bound for the CI of population STD (99% confidence)\n",
        "lb_pop_std_99 = math.sqrt((n-1)/b_99)*sample_std\n",
        "#Upper bound for the CI of population STD (99% confidence)\n",
        "ub_pop_std_99 = math.sqrt((n-1)/a_99)*sample_std\n",
        "\n",
        "print(\"The 95% Confidence Interval for the population STD of female patients: ({}, {})\".format(round(lb_pop_std_95,3), round(ub_pop_std_95,3)))\n",
        "print(\"The 99% Confidence Interval for the population STD of female patients: ({}, {})\".format(round(lb_pop_std_99,3), round(ub_pop_std_99,3)))"
      ],
      "metadata": {
        "execution": {
          "iopub.status.busy": "2024-04-09T07:42:43.890356Z",
          "iopub.execute_input": "2024-04-09T07:42:43.890863Z",
          "iopub.status.idle": "2024-04-09T07:42:43.93403Z",
          "shell.execute_reply.started": "2024-04-09T07:42:43.890814Z",
          "shell.execute_reply": "2024-04-09T07:42:43.933103Z"
        },
        "trusted": true,
        "id": "K1KgGySRzKVb"
      },
      "execution_count": null,
      "outputs": []
    },
    {
      "cell_type": "code",
      "source": [
        "# Population Variance of Heights of Female Patients\n",
        "\n",
        "female_heights = df_female[\"Height_(cm)\"].tolist()\n",
        "n = len(female_heights)\n",
        "a_95 = stats.chi2.ppf(q=(0.05/2), df=n-1)\n",
        "b_95 = stats.chi2.ppf(q= 1-(0.05/2), df=n-1)\n",
        "a_99 = stats.chi2.ppf(q= 0.01/2, df=n-1)\n",
        "b_99 = stats.chi2.ppf(q= 1-(0.01/2), df=n-1)\n",
        "N = (n-1)/n\n",
        "\n",
        "\n",
        "sample_var = np.var(female_heights)\n",
        "print(\"Point estimate for the population variance of height of female patients: \", round(N*sample_var,3))\n",
        "\n",
        "#Lower bound for the CI of population variance (95% confidence)\n",
        "lb_pop_var_95 = ((n-1)*sample_var)/b_95\n",
        "#Upper bound for the CI of population variance (95% confidence)\n",
        "ub_pop_var_95 = ((n-1)*sample_var)/a_95\n",
        "\n",
        "#Lower bound for the CI of population variance (99% confidence)\n",
        "lb_pop_var_99 = ((n-1)*sample_var)/b_99\n",
        "#Upper bound for the CI of population variance (99% confidence)\n",
        "ub_pop_var_99 = ((n-1)*sample_var)/a_99\n",
        "\n",
        "print(\"The 95% Confidence Interval for the population variance of height of female patients: ({}, {})\".format(round(lb_pop_var_95,3), round(ub_pop_var_95,3)))\n",
        "print(\"The 99% Confidence Interval for the population variance of height of female patients: ({}, {})\".format(round(lb_pop_var_99,3), round(ub_pop_var_99,3)))"
      ],
      "metadata": {
        "execution": {
          "iopub.status.busy": "2024-04-09T07:41:04.227204Z",
          "iopub.execute_input": "2024-04-09T07:41:04.227679Z",
          "iopub.status.idle": "2024-04-09T07:41:04.26876Z",
          "shell.execute_reply.started": "2024-04-09T07:41:04.227643Z",
          "shell.execute_reply": "2024-04-09T07:41:04.267358Z"
        },
        "trusted": true,
        "id": "8f9RB-DyzKVb"
      },
      "execution_count": null,
      "outputs": []
    },
    {
      "cell_type": "markdown",
      "source": [
        "### 1.2.4 Confidence Interval for Dfference between means of Male and Female Heights"
      ],
      "metadata": {
        "id": "CnKhXTHozKVb"
      }
    },
    {
      "cell_type": "markdown",
      "source": [
        "If $X_1, X_2, \\ldots X_n \\sim N(\\mu_1, \\sigma^2)$ and $Y_1, Y_2, \\ldots Y_m \\sim N(\\mu_2, \\sigma^2)$ are independent samples, then a $(1-\\alpha)100\\%$ confidence interval for the difference in population means $\\mu_1 - \\mu_2$ is: $$(\\overline{X} - \\overline{Y}) \\pm t_{\\alpha/2, n+m-2}\\;S_p\\sqrt{\\frac{1}{n} + \\frac{1}{m}}$$ where $S_p$ is the pooled standard deviation, given by $S_p = \\sqrt{\\frac{(n-1)S_X^2 + (m-1)S_Y^2}{n+m-2}}$"
      ],
      "metadata": {
        "id": "7alLCagczKVb"
      }
    },
    {
      "cell_type": "code",
      "source": [
        "df_female = dfo.loc[dfo[\"Sex\"]==\"Female\", :]\n",
        "df_male = dfo.loc[dfo[\"Sex\"]==\"Male\", :]\n",
        "male_heights = df_male[\"Height_(cm)\"].tolist()\n",
        "female_heights = df_female[\"Height_(cm)\"].tolist()\n",
        "n_male = len(male_heights)\n",
        "n_female = len(female_heights)\n",
        "S_male = np.std(male_heights)\n",
        "S_female = np.std(female_heights)\n",
        "mean_male = np.mean(male_heights)\n",
        "mean_female = np.mean(female_heights)\n",
        "print(\"Average height of male residents:\", round(mean_male,3))\n",
        "print(\"Average height of female residents:\", round(mean_female,3))\n",
        "print(\"(Sample) STD of heights of male residents:\", round(S_male,3))\n",
        "print(\"(Sample) STD of heights of female residents:\", round(S_female,3))\n",
        "print(\"Number of male residents (n1) = {} and number of female residents (n2) = {}\".format(n_male, n_female))\n",
        "print(\"Ratio of standard deviations (male/female):\", round(S_male/S_female,3))"
      ],
      "metadata": {
        "execution": {
          "iopub.status.busy": "2024-04-27T13:46:02.41368Z",
          "iopub.execute_input": "2024-04-27T13:46:02.414017Z",
          "iopub.status.idle": "2024-04-27T13:46:02.560603Z",
          "shell.execute_reply.started": "2024-04-27T13:46:02.413991Z",
          "shell.execute_reply": "2024-04-27T13:46:02.558885Z"
        },
        "trusted": true,
        "id": "4uwKfvZ1zKVc"
      },
      "execution_count": null,
      "outputs": []
    },
    {
      "cell_type": "markdown",
      "source": [
        "As the ratio of sample standard deviation between the male and female heights is 1.05, which is less than 2, we use the pooled t-interval for CI of difference of means."
      ],
      "metadata": {
        "id": "NXKoAP85zKVc"
      }
    },
    {
      "cell_type": "code",
      "source": [
        "var_male = np.var(male_heights)\n",
        "var_female = np.var(female_heights)\n",
        "Sp = math.sqrt(((n_male-1)*var_male + (n_female-1)*var_female)/(n_male+ n_female - 2)) #pooled STD\n",
        "t_95 = stats.t.ppf(q = 1-(0.05/2), df = n_male+n_female-2)\n",
        "t_99 = stats.t.ppf(q=1-(0.01/2), df = n_male+n_female-2)\n",
        "\n",
        "lb_95 = (mean_male - mean_female) - (t_95 * Sp * math.sqrt((1/n_male) + (1/n_female)))\n",
        "ub_95 = (mean_male - mean_female) + (t_95 * Sp * math.sqrt((1/n_male) + (1/n_female)))\n",
        "\n",
        "lb_99 = (mean_male - mean_female) - (t_99 * Sp * math.sqrt((1/n_male) + (1/n_female)))\n",
        "ub_99 = (mean_male - mean_female) + (t_99 * Sp * math.sqrt((1/n_male) + (1/n_female)))\n",
        "\n",
        "print(\"The pooled standard deviation is {}.\\n\".format(Sp))\n",
        "print(\"Confidence intervals for difference in population mean height between male and female residents:\")\n",
        "print(\"The 95% Confidence Interval: ({}, {})\".format(round(lb_95,3), round(ub_95,3)))\n",
        "print(\"The 99% Confidence Interval: ({}, {})\".format(round(lb_99,3), round(ub_99,3)))"
      ],
      "metadata": {
        "execution": {
          "iopub.status.busy": "2024-04-27T13:46:20.145822Z",
          "iopub.execute_input": "2024-04-27T13:46:20.146167Z",
          "iopub.status.idle": "2024-04-27T13:46:20.177126Z",
          "shell.execute_reply.started": "2024-04-27T13:46:20.146141Z",
          "shell.execute_reply": "2024-04-27T13:46:20.175543Z"
        },
        "trusted": true,
        "id": "bZKxGpQBzKVc"
      },
      "execution_count": null,
      "outputs": []
    },
    {
      "cell_type": "markdown",
      "source": [
        "## 1.3 Analysis of Weight Data"
      ],
      "metadata": {
        "id": "BBgshRJbzKVc"
      }
    },
    {
      "cell_type": "markdown",
      "source": [
        "### 1.3.1 Distribution of Weight (kg) of all Residents"
      ],
      "metadata": {
        "id": "mlkfXCaJzKVc"
      }
    },
    {
      "cell_type": "markdown",
      "source": [
        "Weight of the US residents is approximately normally distributed with mean $83.59$ kg and standard deviation $21.34$ kg."
      ],
      "metadata": {
        "id": "CkwmvEvwzKVd"
      }
    },
    {
      "cell_type": "code",
      "source": [
        "from scipy.stats import norm\n",
        "import matplotlib.pyplot as plt\n",
        "\n",
        "data = dfo['Weight_(kg)'].tolist()\n",
        "\n",
        "# Fit a normal distribution to the data:\n",
        "mu, std = norm.fit(data)\n",
        "\n",
        "# Plot the histogram.\n",
        "plt.hist(data, bins=14, density=True, color='green', ec='k')\n",
        "\n",
        "# Plot the PDF.\n",
        "\n",
        "x = np.linspace(10, 170, 50)\n",
        "p = norm.pdf(x, mu, std)\n",
        "plt.plot(x, p, 'k', linewidth=2)\n",
        "xr = [i for i in range(10, 201, 20)]\n",
        "\n",
        "title = \"Distribution of Weight (kg): Mean = %.2f,  STD = %.2f\" % (mu, std)\n",
        "plt.xticks(xr)\n",
        "plt.title(title)\n",
        "plt.ylabel(\"Density\")\n",
        "plt.xlabel(\"Weight (in kg)\")\n"
      ],
      "metadata": {
        "execution": {
          "iopub.status.busy": "2024-03-22T09:51:07.47373Z",
          "iopub.execute_input": "2024-03-22T09:51:07.474216Z",
          "iopub.status.idle": "2024-03-22T09:51:09.316364Z",
          "shell.execute_reply.started": "2024-03-22T09:51:07.474176Z",
          "shell.execute_reply": "2024-03-22T09:51:09.315Z"
        },
        "trusted": true,
        "id": "7VmcUgrNzKVd"
      },
      "execution_count": null,
      "outputs": []
    },
    {
      "cell_type": "code",
      "source": [
        "plt.figure(figsize=(7,5))\n",
        "plt.title(\"Histogram Plot: Distribution of Weight (kg)\")\n",
        "ax = sns.histplot(dfo[\"Weight_(kg)\"], bins=[x for x in range(10, 191, 10)], color=\"green\")\n",
        "plt.ylabel(\"Number of People\")\n",
        "plt.xlabel(\"Weight (in kg)\")\n",
        "plt.xticks([x for x in range(10, 191, 10)], rotation=90)\n",
        "plt.show()"
      ],
      "metadata": {
        "execution": {
          "iopub.status.busy": "2024-03-24T17:02:00.274645Z",
          "iopub.execute_input": "2024-03-24T17:02:00.275087Z",
          "iopub.status.idle": "2024-03-24T17:02:01.108055Z",
          "shell.execute_reply.started": "2024-03-24T17:02:00.275056Z",
          "shell.execute_reply": "2024-03-24T17:02:01.106589Z"
        },
        "trusted": true,
        "id": "z9ZOBkggzKVg"
      },
      "execution_count": null,
      "outputs": []
    },
    {
      "cell_type": "markdown",
      "source": [
        "#### Confidence Interval Estimation for Mean Weight of Population"
      ],
      "metadata": {
        "id": "SUdZoSLqzKVh"
      }
    },
    {
      "cell_type": "code",
      "source": [
        "n = dfo.shape[0]\n",
        "# Note that the value of parameter q is 1 - (alpha/2). For 95% CI, we have alpha = 0.05\n",
        "t_95 = stats.t.ppf(q = 0.975, df=n-1)\n",
        "t_99 = stats.t.ppf(q = 0.995, df=n-1)\n",
        "print(\"The t-values are as follows:\")\n",
        "print(\"t_95 = \", t_95)\n",
        "print(\"t_99 = \", t_99)"
      ],
      "metadata": {
        "execution": {
          "iopub.status.busy": "2024-04-23T06:57:17.126243Z",
          "iopub.execute_input": "2024-04-23T06:57:17.126633Z",
          "iopub.status.idle": "2024-04-23T06:57:17.136797Z",
          "shell.execute_reply.started": "2024-04-23T06:57:17.126593Z",
          "shell.execute_reply": "2024-04-23T06:57:17.135564Z"
        },
        "trusted": true,
        "id": "BuYxwtSLzKVh"
      },
      "execution_count": null,
      "outputs": []
    },
    {
      "cell_type": "code",
      "source": [
        "# Mean Weight of Population\n",
        "\n",
        "weights = dfo[\"Weight_(kg)\"].tolist()\n",
        "n = len(weights)\n",
        "\n",
        "sample_mean = np.mean(weights)\n",
        "sample_std = np.std(weights)\n",
        "\n",
        "print(\"Point estimate for population mean weight (Sample mean): \", round(sample_mean, 3))\n",
        "\n",
        "#Lower bound for the CI of population mean (95% confidence)\n",
        "lb_pop_mean_95 = sample_mean - (t_95*(sample_std/math.sqrt(n)))\n",
        "#Upper bound for the CI of population mean (95% confidence)\n",
        "ub_pop_mean_95 = sample_mean + (t_95*(sample_std/math.sqrt(n)))\n",
        "\n",
        "#Lower bound for the CI of population mean (99% confidence)\n",
        "lb_pop_mean_99 = sample_mean - (t_99*(sample_std/math.sqrt(n)))\n",
        "#Upper bound for the CI of population mean (99% confidence)\n",
        "ub_pop_mean_99 = sample_mean + (t_99*(sample_std/math.sqrt(n)))\n",
        "\n",
        "print(\"The 95% Confidence Interval for the mean weight (in kg) of the population: ({}, {})\".format(round(lb_pop_mean_95,3), round(ub_pop_mean_95,3)))\n",
        "print(\"The 99% Confidence Interval for the mean weight (in kg) of the population: ({}, {})\".format(round(lb_pop_mean_99,3), round(ub_pop_mean_99,3)))"
      ],
      "metadata": {
        "execution": {
          "iopub.status.busy": "2024-04-23T06:57:20.817632Z",
          "iopub.execute_input": "2024-04-23T06:57:20.818078Z",
          "iopub.status.idle": "2024-04-23T06:57:20.870732Z",
          "shell.execute_reply.started": "2024-04-23T06:57:20.818045Z",
          "shell.execute_reply": "2024-04-23T06:57:20.869241Z"
        },
        "trusted": true,
        "id": "ZGnBxJP-zKVh"
      },
      "execution_count": null,
      "outputs": []
    },
    {
      "cell_type": "code",
      "source": [
        "# Variance of Weight of Population\n",
        "\n",
        "weights = dfo[\"Weight_(kg)\"].tolist()\n",
        "n = len(weights)\n",
        "N = (n-1)/n\n",
        "a_95 = stats.chi2.ppf(q=(0.05/2), df=n-1)\n",
        "b_95 = stats.chi2.ppf(q= 1-(0.05/2), df=n-1)\n",
        "a_99 = stats.chi2.ppf(q= 0.01/2, df=n-1)\n",
        "b_99 = stats.chi2.ppf(q= 1-(0.01/2), df=n-1)\n",
        "sample_var = np.var(weights)\n",
        "print(\"Point estimate for the population variance of weight (Sample variance): \", round(N*sample_var,3))\n",
        "\n",
        "#Lower bound for the CI of population variance (95% confidence)\n",
        "lb_pop_var_95 = ((n-1)*sample_var)/b_95\n",
        "#Upper bound for the CI of population variance (95% confidence)\n",
        "ub_pop_var_95 = ((n-1)*sample_var)/a_95\n",
        "\n",
        "#Lower bound for the CI of population variance (99% confidence)\n",
        "lb_pop_var_99 = ((n-1)*sample_var)/b_99\n",
        "#Upper bound for the CI of population variance (99% confidence)\n",
        "ub_pop_var_99 = ((n-1)*sample_var)/a_99\n",
        "\n",
        "print(\"The 95% Confidence Interval for the population variance of weight: ({}, {})\".format(round(lb_pop_var_95,3), round(ub_pop_var_95,3)))\n",
        "print(\"The 99% Confidence Interval for the population variance of weight: ({}, {})\".format(round(lb_pop_var_99,3), round(ub_pop_var_99,3)))"
      ],
      "metadata": {
        "execution": {
          "iopub.status.busy": "2024-04-23T06:59:36.509007Z",
          "iopub.execute_input": "2024-04-23T06:59:36.509416Z",
          "iopub.status.idle": "2024-04-23T06:59:36.551999Z",
          "shell.execute_reply.started": "2024-04-23T06:59:36.509384Z",
          "shell.execute_reply": "2024-04-23T06:59:36.550715Z"
        },
        "trusted": true,
        "id": "4vjDAZ93zKVi"
      },
      "execution_count": null,
      "outputs": []
    },
    {
      "cell_type": "code",
      "source": [
        "# Population Standard Deviation of Weight\n",
        "\n",
        "weights = dfo[\"Weight_(kg)\"].tolist()\n",
        "a_95 = stats.chi2.ppf(q=(0.05/2), df=n-1)\n",
        "b_95 = stats.chi2.ppf(q= 1-(0.05/2), df=n-1)\n",
        "a_99 = stats.chi2.ppf(q= 0.01/2, df=n-1)\n",
        "b_99 = stats.chi2.ppf(q= 1-(0.01/2), df=n-1)\n",
        "n = len(weights)\n",
        "N = (n-1)/n\n",
        "sample_std = np.std(weights)\n",
        "print(\"Point estimate for the standard deviation of weight (Sample STD): \", round(math.sqrt(N)*sample_std,3))\n",
        "\n",
        "#Lower bound for the CI of population STD (95% confidence)\n",
        "lb_pop_std_95 = math.sqrt((n-1)/b_95)*sample_std\n",
        "#Upper bound for the CI of population STD (95% confidence)\n",
        "ub_pop_std_95 = math.sqrt((n-1)/a_95)*sample_std\n",
        "\n",
        "#Lower bound for the CI of population STD (99% confidence)\n",
        "lb_pop_std_99 = math.sqrt((n-1)/b_99)*sample_std\n",
        "#Upper bound for the CI of population STD (99% confidence)\n",
        "ub_pop_std_99 = math.sqrt((n-1)/a_99)*sample_std\n",
        "\n",
        "print(\"The 95% Confidence Interval for the population STD of weight: ({}, {})\".format(round(lb_pop_std_95,3), round(ub_pop_std_95,3)))\n",
        "print(\"The 99% Confidence Interval for the population STD of weight: ({}, {})\".format(round(lb_pop_std_99,3), round(ub_pop_std_99,3)))"
      ],
      "metadata": {
        "execution": {
          "iopub.status.busy": "2024-04-23T07:01:24.09907Z",
          "iopub.execute_input": "2024-04-23T07:01:24.099503Z",
          "iopub.status.idle": "2024-04-23T07:01:24.143379Z",
          "shell.execute_reply.started": "2024-04-23T07:01:24.099471Z",
          "shell.execute_reply": "2024-04-23T07:01:24.141918Z"
        },
        "trusted": true,
        "id": "reN7i3YszKVi"
      },
      "execution_count": null,
      "outputs": []
    },
    {
      "cell_type": "markdown",
      "source": [
        "### 1.3.2 Weight Distribution by Gender: Male Residents"
      ],
      "metadata": {
        "id": "v_ygiLGgzKVi"
      }
    },
    {
      "cell_type": "code",
      "source": [
        "df_male = dfo.loc[dfo[\"Sex\"]==\"Male\", :]"
      ],
      "metadata": {
        "execution": {
          "iopub.status.busy": "2024-04-23T07:37:48.182397Z",
          "iopub.execute_input": "2024-04-23T07:37:48.183029Z",
          "iopub.status.idle": "2024-04-23T07:37:48.256507Z",
          "shell.execute_reply.started": "2024-04-23T07:37:48.182993Z",
          "shell.execute_reply": "2024-04-23T07:37:48.255076Z"
        },
        "trusted": true,
        "id": "yc80RX-RzKVi"
      },
      "execution_count": null,
      "outputs": []
    },
    {
      "cell_type": "code",
      "source": [
        "#Weight of Male Residents\n",
        "\n",
        "plt.figure(figsize=(7,5))\n",
        "plt.title(\"Distribution of Weight (kg) of Male Residents\")\n",
        "ax = sns.histplot(df_male[\"Weight_(kg)\"], bins=[x for x in range(10,201,10)], color='dodgerblue')\n",
        "plt.ylabel(\"Number of Males\")\n",
        "plt.xlabel(\"Weight (in kg)\")\n",
        "plt.xticks([x for x in range(10, 201, 10)], rotation=90)\n",
        "plt.show()"
      ],
      "metadata": {
        "execution": {
          "iopub.status.busy": "2024-04-23T07:37:50.038304Z",
          "iopub.execute_input": "2024-04-23T07:37:50.038697Z",
          "iopub.status.idle": "2024-04-23T07:37:50.593168Z",
          "shell.execute_reply.started": "2024-04-23T07:37:50.038665Z",
          "shell.execute_reply": "2024-04-23T07:37:50.591872Z"
        },
        "trusted": true,
        "id": "oD12jsHMzKVj"
      },
      "execution_count": null,
      "outputs": []
    },
    {
      "cell_type": "code",
      "source": [
        "from scipy.stats import norm\n",
        "\n",
        "data = df_male['Weight_(kg)'].tolist()\n",
        "\n",
        "# Fit a normal distribution to the data:\n",
        "mu, std = norm.fit(data)\n",
        "\n",
        "# Plot the histogram.\n",
        "plt.hist(data, bins=20, density=True, ec='k', color='dodgerblue')\n",
        "\n",
        "\n",
        "# Plot the PDF.\n",
        "\n",
        "x = np.linspace(10, 201, 100)\n",
        "p = norm.pdf(x, mu, std)\n",
        "plt.plot(x, p, 'k', linewidth=2)\n",
        "title = \"Distribution of Weight of Male (kg): Mean = %.2f,  STD = %.2f\" % (mu, std)\n",
        "plt.title(title)\n",
        "plt.xlabel(\"Weight (in kg)\")\n",
        "plt.ylabel(\"Density\")\n"
      ],
      "metadata": {
        "execution": {
          "iopub.status.busy": "2024-04-23T07:37:53.235644Z",
          "iopub.execute_input": "2024-04-23T07:37:53.236064Z",
          "iopub.status.idle": "2024-04-23T07:37:53.994254Z",
          "shell.execute_reply.started": "2024-04-23T07:37:53.236032Z",
          "shell.execute_reply": "2024-04-23T07:37:53.992844Z"
        },
        "trusted": true,
        "id": "CUxiMjT2zKVj"
      },
      "execution_count": null,
      "outputs": []
    },
    {
      "cell_type": "code",
      "source": [
        "# Confidence Interval Estimation for Mean Weight of Male Population\n",
        "\n",
        "male_weights = df_male[\"Weight_(kg)\"].tolist()\n",
        "n = len(male_weights)\n",
        "t_95 = stats.t.ppf(q = 0.975, df=n-1)\n",
        "t_99 = stats.t.ppf(q = 0.995, df=n-1)\n",
        "\n",
        "sample_mean = np.mean(male_weights)\n",
        "sample_std = np.std(male_weights)\n",
        "print(\"Point estimate for population mean weight of males (Sample mean): \", round(sample_mean, 3))\n",
        "\n",
        "#Lower bound for the CI of population mean (95% confidence)\n",
        "lb_pop_mean_95 = sample_mean - (t_95*(sample_std/math.sqrt(n)))\n",
        "#Upper bound for the CI of population mean (95% confidence)\n",
        "ub_pop_mean_95 = sample_mean + (t_95*(sample_std/math.sqrt(n)))\n",
        "\n",
        "#Lower bound for the CI of population mean (99% confidence)\n",
        "lb_pop_mean_99 = sample_mean - (t_99*(sample_std/math.sqrt(n)))\n",
        "#Upper bound for the CI of population mean (99% confidence)\n",
        "ub_pop_mean_99 = sample_mean + (t_99*(sample_std/math.sqrt(n)))\n",
        "\n",
        "print(\"The 95% Confidence Interval for the mean weight of the Male population: ({}, {})\".format(round(lb_pop_mean_95,3), round(ub_pop_mean_95,3)))\n",
        "print(\"The 99% Confidence Interval for the mean weight of the Male population: ({}, {})\".format(round(lb_pop_mean_99,3), round(ub_pop_mean_99,3)))"
      ],
      "metadata": {
        "execution": {
          "iopub.status.busy": "2024-04-23T07:40:56.138583Z",
          "iopub.execute_input": "2024-04-23T07:40:56.139Z",
          "iopub.status.idle": "2024-04-23T07:40:56.170585Z",
          "shell.execute_reply.started": "2024-04-23T07:40:56.13897Z",
          "shell.execute_reply": "2024-04-23T07:40:56.169328Z"
        },
        "trusted": true,
        "id": "fUds72jBzKVj"
      },
      "execution_count": null,
      "outputs": []
    },
    {
      "cell_type": "code",
      "source": [
        "# Confidence Interval Estimation for STD of Weight of Male Population\n",
        "\n",
        "male_weights = df_male[\"Weight_(kg)\"].tolist()\n",
        "n = len(male_weights)\n",
        "a_95 = stats.chi2.ppf(q=(0.05/2), df=n-1)\n",
        "b_95 = stats.chi2.ppf(q= 1-(0.05/2), df=n-1)\n",
        "a_99 = stats.chi2.ppf(q= 0.01/2, df=n-1)\n",
        "b_99 = stats.chi2.ppf(q= 1-(0.01/2), df=n-1)\n",
        "N = (n-1)/n\n",
        "\n",
        "sample_std = np.std(male_weights)\n",
        "print(\"Point estimate for the STD of weight of the population of male patients: \", round(math.sqrt(N)*sample_std, 3))\n",
        "\n",
        "#Lower bound for the CI of population STD (95% confidence)\n",
        "lb_pop_std_95 = math.sqrt((n-1)/b_95)*sample_std\n",
        "#Upper bound for the CI of population STD (95% confidence)\n",
        "ub_pop_std_95 = math.sqrt((n-1)/a_95)*sample_std\n",
        "\n",
        "#Lower bound for the CI of population STD (99% confidence)\n",
        "lb_pop_std_99 = math.sqrt((n-1)/b_99)*sample_std\n",
        "#Upper bound for the CI of population STD (99% confidence)\n",
        "ub_pop_std_99 = math.sqrt((n-1)/a_99)*sample_std\n",
        "\n",
        "print(\"The 95% Confidence Interval for the population STD of weight of male patients: ({}, {})\".format(round(lb_pop_std_95,3), round(ub_pop_std_95,3)))\n",
        "print(\"The 99% Confidence Interval for the population STD of weight of male patients: ({}, {})\".format(round(lb_pop_std_99,3), round(ub_pop_std_99,3)))"
      ],
      "metadata": {
        "execution": {
          "iopub.status.busy": "2024-04-23T07:43:54.077737Z",
          "iopub.execute_input": "2024-04-23T07:43:54.078177Z",
          "iopub.status.idle": "2024-04-23T07:43:54.107497Z",
          "shell.execute_reply.started": "2024-04-23T07:43:54.078138Z",
          "shell.execute_reply": "2024-04-23T07:43:54.106184Z"
        },
        "trusted": true,
        "id": "CiuFAVS4zKVj"
      },
      "execution_count": null,
      "outputs": []
    },
    {
      "cell_type": "markdown",
      "source": [
        "### 1.3.3 Weight Distribution by Gender: Female Patients"
      ],
      "metadata": {
        "id": "pXS4_TkazKVk"
      }
    },
    {
      "cell_type": "code",
      "source": [
        "df_female = dfo.loc[dfo[\"Sex\"]==\"Female\", :]"
      ],
      "metadata": {
        "execution": {
          "iopub.status.busy": "2024-04-02T07:47:10.958279Z",
          "iopub.execute_input": "2024-04-02T07:47:10.959423Z",
          "iopub.status.idle": "2024-04-02T07:47:11.064773Z",
          "shell.execute_reply.started": "2024-04-02T07:47:10.959385Z",
          "shell.execute_reply": "2024-04-02T07:47:11.063609Z"
        },
        "trusted": true,
        "id": "NdPdO0cTzKVk"
      },
      "execution_count": null,
      "outputs": []
    },
    {
      "cell_type": "code",
      "source": [
        "#Weight of Female Residents\n",
        "\n",
        "plt.figure(figsize=(7,5))\n",
        "plt.title(\"Distribution of Weight (kg) of Female Residents\")\n",
        "ax = sns.histplot(df_female[\"Weight_(kg)\"], bins=[x for x in range(10,191,10)], color='hotpink')\n",
        "plt.ylabel(\"Number of Female Patients\")\n",
        "plt.xlabel(\"Weight(in kg)\")\n",
        "plt.xticks([x for x in range(10, 191, 10)], rotation=90)\n",
        "plt.show()"
      ],
      "metadata": {
        "execution": {
          "iopub.status.busy": "2024-03-22T09:56:21.823126Z",
          "iopub.execute_input": "2024-03-22T09:56:21.823589Z",
          "iopub.status.idle": "2024-03-22T09:56:22.46635Z",
          "shell.execute_reply.started": "2024-03-22T09:56:21.823553Z",
          "shell.execute_reply": "2024-03-22T09:56:22.465148Z"
        },
        "trusted": true,
        "id": "LV7Cnf2TzKVk"
      },
      "execution_count": null,
      "outputs": []
    },
    {
      "cell_type": "code",
      "source": [
        "from scipy.stats import norm\n",
        "\n",
        "data = df_female['Weight_(kg)'].tolist()\n",
        "\n",
        "# Fit a normal distribution to the data:\n",
        "mu, std = norm.fit(data)\n",
        "\n",
        "# Plot the histogram.\n",
        "plt.hist(data, bins=20, density=True, ec='k', color='hotpink')\n",
        "\n",
        "\n",
        "# Plot the PDF.\n",
        "\n",
        "x = np.linspace(10, 191, 100)\n",
        "p = norm.pdf(x, mu, std)\n",
        "plt.plot(x, p, 'k', linewidth=2)\n",
        "title = \"Distribution of Weight of Female (kg): Mean = %.2f,  STD = %.2f\" % (mu, std)\n",
        "plt.title(title)\n",
        "plt.xlabel(\"Weight (in kg)\")\n",
        "plt.ylabel(\"Density\")\n"
      ],
      "metadata": {
        "execution": {
          "iopub.status.busy": "2024-03-22T09:56:38.13323Z",
          "iopub.execute_input": "2024-03-22T09:56:38.133658Z",
          "iopub.status.idle": "2024-03-22T09:56:39.26283Z",
          "shell.execute_reply.started": "2024-03-22T09:56:38.133624Z",
          "shell.execute_reply": "2024-03-22T09:56:39.261673Z"
        },
        "trusted": true,
        "id": "kxQlpndyzKVk"
      },
      "execution_count": null,
      "outputs": []
    },
    {
      "cell_type": "code",
      "source": [
        "# Confidence Interval Estimation for Mean Weight of Female Population\n",
        "\n",
        "female_weights = df_female[\"Weight_(kg)\"].tolist()\n",
        "n = len(female_weights)\n",
        "t_95 = stats.t.ppf(q = 0.975, df=n-1)\n",
        "t_99 = stats.t.ppf(q = 0.995, df=n-1)\n",
        "\n",
        "sample_mean = np.mean(female_weights)\n",
        "sample_std = np.std(female_weights)\n",
        "print(\"Point estimate for population mean weight of females (Sample mean): \", round(sample_mean, 3))\n",
        "\n",
        "#Lower bound for the CI of population mean (95% confidence)\n",
        "lb_pop_mean_95 = sample_mean - (t_95*(sample_std/math.sqrt(n)))\n",
        "#Upper bound for the CI of population mean (95% confidence)\n",
        "ub_pop_mean_95 = sample_mean + (t_95*(sample_std/math.sqrt(n)))\n",
        "\n",
        "#Lower bound for the CI of population mean (99% confidence)\n",
        "lb_pop_mean_99 = sample_mean - (t_99*(sample_std/math.sqrt(n)))\n",
        "#Upper bound for the CI of population mean (99% confidence)\n",
        "ub_pop_mean_99 = sample_mean + (t_99*(sample_std/math.sqrt(n)))\n",
        "\n",
        "print(\"The 95% Confidence Interval for the mean weight of the Female population: ({}, {})\".format(round(lb_pop_mean_95,3), round(ub_pop_mean_95,3)))\n",
        "print(\"The 99% Confidence Interval for the mean weight of the Female population: ({}, {})\".format(round(lb_pop_mean_99,3), round(ub_pop_mean_99,3)))"
      ],
      "metadata": {
        "execution": {
          "iopub.status.busy": "2024-04-02T08:23:01.9765Z",
          "iopub.execute_input": "2024-04-02T08:23:01.976916Z",
          "iopub.status.idle": "2024-04-02T08:23:02.022735Z",
          "shell.execute_reply.started": "2024-04-02T08:23:01.976886Z",
          "shell.execute_reply": "2024-04-02T08:23:02.021947Z"
        },
        "trusted": true,
        "id": "IZ4WutawzKVk"
      },
      "execution_count": null,
      "outputs": []
    },
    {
      "cell_type": "code",
      "source": [
        "# Confidence Interval Estimation for STD of Weight of Female Population\n",
        "\n",
        "female_weights = df_female[\"Weight_(kg)\"].tolist()\n",
        "n = len(female_weights)\n",
        "a_95 = stats.chi2.ppf(q=(0.05/2), df=n-1)\n",
        "b_95 = stats.chi2.ppf(q= 1-(0.05/2), df=n-1)\n",
        "a_99 = stats.chi2.ppf(q= 0.01/2, df=n-1)\n",
        "b_99 = stats.chi2.ppf(q= 1-(0.01/2), df=n-1)\n",
        "N = (n-1)/n\n",
        "\n",
        "sample_std = np.std(female_weights)\n",
        "print(\"Point estimate for the STD of weight of the population of female patients: \", round(math.sqrt(N)*sample_std, 3))\n",
        "\n",
        "#Lower bound for the CI of population STD (95% confidence)\n",
        "lb_pop_std_95 = math.sqrt((n-1)/b_95)*sample_std\n",
        "#Upper bound for the CI of population STD (95% confidence)\n",
        "ub_pop_std_95 = math.sqrt((n-1)/a_95)*sample_std\n",
        "\n",
        "#Lower bound for the CI of population STD (99% confidence)\n",
        "lb_pop_std_99 = math.sqrt((n-1)/b_99)*sample_std\n",
        "#Upper bound for the CI of population STD (99% confidence)\n",
        "ub_pop_std_99 = math.sqrt((n-1)/a_99)*sample_std\n",
        "\n",
        "print(\"The 95% Confidence Interval for the population STD of weight of female patients: ({}, {})\".format(round(lb_pop_std_95,3), round(ub_pop_std_95,3)))\n",
        "print(\"The 99% Confidence Interval for the population STD of weight of female patients: ({}, {})\".format(round(lb_pop_std_99,3), round(ub_pop_std_99,3)))"
      ],
      "metadata": {
        "execution": {
          "iopub.status.busy": "2024-04-02T08:23:07.240909Z",
          "iopub.execute_input": "2024-04-02T08:23:07.241807Z",
          "iopub.status.idle": "2024-04-02T08:23:07.282926Z",
          "shell.execute_reply.started": "2024-04-02T08:23:07.241774Z",
          "shell.execute_reply": "2024-04-02T08:23:07.281723Z"
        },
        "trusted": true,
        "id": "b41b2hGhzKVl"
      },
      "execution_count": null,
      "outputs": []
    },
    {
      "cell_type": "code",
      "source": [
        "# Population Variance of Weight of Female Residents\n",
        "\n",
        "female_weights = df_female[\"Weight_(kg)\"].tolist()\n",
        "n = len(female_weights)\n",
        "a_95 = stats.chi2.ppf(q=(0.05/2), df=n-1)\n",
        "b_95 = stats.chi2.ppf(q= 1-(0.05/2), df=n-1)\n",
        "a_99 = stats.chi2.ppf(q= 0.01/2, df=n-1)\n",
        "b_99 = stats.chi2.ppf(q= 1-(0.01/2), df=n-1)\n",
        "N = (n-1)/n\n",
        "\n",
        "\n",
        "sample_var = np.var(female_weights)\n",
        "print(\"Point estimate for the population variance of weight of female patients: \", round(N*sample_var,3))\n",
        "\n",
        "#Lower bound for the CI of population variance (95% confidence)\n",
        "lb_pop_var_95 = ((n-1)*sample_var)/b_95\n",
        "#Upper bound for the CI of population variance (95% confidence)\n",
        "ub_pop_var_95 = ((n-1)*sample_var)/a_95\n",
        "\n",
        "#Lower bound for the CI of population variance (99% confidence)\n",
        "lb_pop_var_99 = ((n-1)*sample_var)/b_99\n",
        "#Upper bound for the CI of population variance (99% confidence)\n",
        "ub_pop_var_99 = ((n-1)*sample_var)/a_99\n",
        "\n",
        "print(\"The 95% Confidence Interval for the population variance of weight of female patients: ({}, {})\".format(round(lb_pop_var_95,3), round(ub_pop_var_95,3)))\n",
        "print(\"The 99% Confidence Interval for the population variance of weight of female patients: ({}, {})\".format(round(lb_pop_var_99,3), round(ub_pop_var_99,3)))"
      ],
      "metadata": {
        "execution": {
          "iopub.status.busy": "2024-04-02T08:23:10.585298Z",
          "iopub.execute_input": "2024-04-02T08:23:10.585674Z",
          "iopub.status.idle": "2024-04-02T08:23:10.619981Z",
          "shell.execute_reply.started": "2024-04-02T08:23:10.585646Z",
          "shell.execute_reply": "2024-04-02T08:23:10.61888Z"
        },
        "trusted": true,
        "id": "iQNm0kNdzKVl"
      },
      "execution_count": null,
      "outputs": []
    },
    {
      "cell_type": "markdown",
      "source": [
        "## 1.4 Confidence Interval for Ratio of Variances of BMI (Female/Male)"
      ],
      "metadata": {
        "id": "6ufPE4bDzKVl"
      }
    },
    {
      "cell_type": "markdown",
      "source": [
        "If $X_1, X_2, \\ldots X_n \\sim N(\\mu_X, \\sigma_X^2)$ and $Y_1, Y_2, \\ldots Y_m \\sim N(\\mu_Y, \\sigma_Y^2)$ are independent samples, then a $(1-\\alpha)100\\%$ confidence interval for the ratio of population variances $\\frac{\\sigma_X^2}{\\sigma_Y^2}$ is: $$\\left(\\frac{1}{F_{\\alpha/2,\\;n-1,\\;m-1}}\\frac{S_X^2}{S_Y^2},\\; F_{\\alpha/2,\\;m-1,\\;n-1}\\frac{S_X^2}{S_Y^2}\\right)$$"
      ],
      "metadata": {
        "id": "RIgdSYmDzKVl"
      }
    },
    {
      "cell_type": "code",
      "source": [
        "df_female = dfo.loc[dfo[\"Sex\"]==\"Female\", :]\n",
        "df_male = dfo.loc[dfo[\"Sex\"]==\"Male\", :]\n",
        "male_bmi = df_male[\"BMI\"].tolist()\n",
        "female_bmi = df_female[\"BMI\"].tolist()\n",
        "n_male = len(male_bmi)\n",
        "n_female = len(female_bmi)\n",
        "var_male = np.var(male_bmi)\n",
        "var_female = np.var(female_bmi)\n",
        "print(\"(Sample) Variance of BMI of male residents (S1^2):\", var_male)\n",
        "print(\"(Sample) Variance of BMI of female residents (S2^2):\", var_female)"
      ],
      "metadata": {
        "execution": {
          "iopub.status.busy": "2024-04-20T18:34:17.149218Z",
          "iopub.execute_input": "2024-04-20T18:34:17.149614Z",
          "iopub.status.idle": "2024-04-20T18:34:17.324675Z",
          "shell.execute_reply.started": "2024-04-20T18:34:17.149581Z",
          "shell.execute_reply": "2024-04-20T18:34:17.322613Z"
        },
        "trusted": true,
        "id": "l2bplNgPzKVl"
      },
      "execution_count": null,
      "outputs": []
    },
    {
      "cell_type": "code",
      "source": [
        "F1_95 = stats.f.ppf(q=1-0.025, dfn=n_female-1, dfd=n_male-1)\n",
        "F2_95 = stats.f.ppf(q=1-0.025, dfn=n_male-1, dfd=n_female-1)\n",
        "\n",
        "F1_99 = stats.f.ppf(q=1-(0.01/2), dfn=n_female-1, dfd=n_male-1)\n",
        "F2_99 = stats.f.ppf(q=1-(0.01/2), dfn=n_male-1, dfd=n_female-1)\n",
        "\n",
        "print(\"The F-values are:\")\n",
        "print(F1_99, F2_99)"
      ],
      "metadata": {
        "execution": {
          "iopub.status.busy": "2024-04-20T18:36:12.522464Z",
          "iopub.execute_input": "2024-04-20T18:36:12.523037Z",
          "iopub.status.idle": "2024-04-20T18:36:12.538443Z",
          "shell.execute_reply.started": "2024-04-20T18:36:12.522992Z",
          "shell.execute_reply": "2024-04-20T18:36:12.537018Z"
        },
        "trusted": true,
        "id": "2_y3_LdozKVm"
      },
      "execution_count": null,
      "outputs": []
    },
    {
      "cell_type": "code",
      "source": [
        "lb_95 = (1/F1_95)*(var_female/var_male)\n",
        "ub_95 = F2_95*(var_female/var_male)\n",
        "\n",
        "lb_99 = (1/F1_99)*(var_female/var_male)\n",
        "ub_99 = F2_99*(var_female/var_male)\n",
        "\n",
        "print(\"Confidence intervals for ratio of variances of BMI of female and male residents:\")\n",
        "print(\"The 95% Confidence Interval: ({}, {})\".format(round(lb_95,3), round(ub_95,3)))\n",
        "print(\"The 99% Confidence Interval: ({}, {})\".format(round(lb_99,3), round(ub_99,3)))\n"
      ],
      "metadata": {
        "execution": {
          "iopub.status.busy": "2024-04-20T18:38:16.621414Z",
          "iopub.execute_input": "2024-04-20T18:38:16.621854Z",
          "iopub.status.idle": "2024-04-20T18:38:16.632014Z",
          "shell.execute_reply.started": "2024-04-20T18:38:16.621823Z",
          "shell.execute_reply": "2024-04-20T18:38:16.630932Z"
        },
        "trusted": true,
        "id": "huHTLg00zKVm"
      },
      "execution_count": null,
      "outputs": []
    },
    {
      "cell_type": "markdown",
      "source": [
        "## 1.5 Distribution of BMI"
      ],
      "metadata": {
        "id": "ME4d4IJHzKVm"
      }
    },
    {
      "cell_type": "code",
      "source": [
        "plt.figure(figsize=(7,5))\n",
        "plt.title(\"Histogram Plot: Distribution of BMI\")\n",
        "ax = sns.histplot(dfo[\"BMI\"], bins=[x for x in range(5, 61, 5)], color=\"gold\")\n",
        "plt.ylabel(\"Number of People\")\n",
        "plt.xlabel(\"Body Mass Index (BMI)\")\n",
        "plt.xticks([x for x in range(5, 61, 5)])\n",
        "plt.show()"
      ],
      "metadata": {
        "execution": {
          "iopub.status.busy": "2024-03-24T17:05:01.876702Z",
          "iopub.execute_input": "2024-03-24T17:05:01.877246Z",
          "iopub.status.idle": "2024-03-24T17:05:02.640741Z",
          "shell.execute_reply.started": "2024-03-24T17:05:01.877204Z",
          "shell.execute_reply": "2024-03-24T17:05:02.639258Z"
        },
        "trusted": true,
        "id": "4Q76PTxTzKVm"
      },
      "execution_count": null,
      "outputs": []
    },
    {
      "cell_type": "code",
      "source": [
        "from scipy.stats import norm\n",
        "\n",
        "data = dfo['BMI'].tolist()\n",
        "\n",
        "# Fit a normal distribution to the data:\n",
        "mu, std = norm.fit(data)\n",
        "\n",
        "# Plot the histogram.\n",
        "plt.hist(data, bins=22, density=True, ec='k', color='gold')\n",
        "\n",
        "\n",
        "# Plot the PDF.\n",
        "\n",
        "x = np.linspace(5, 70, 100)\n",
        "p = norm.pdf(x, mu, std)\n",
        "plt.plot(x, p, 'k', linewidth=2)\n",
        "title = \"Distribution of BMI: Mean = %.2f,  STD = %.2f\" % (mu, std)\n",
        "plt.title(title)\n",
        "plt.xlabel(\"BMI\")\n",
        "plt.ylabel(\"Density\")\n"
      ],
      "metadata": {
        "execution": {
          "iopub.status.busy": "2024-03-24T17:03:14.789686Z",
          "iopub.execute_input": "2024-03-24T17:03:14.790145Z",
          "iopub.status.idle": "2024-03-24T17:03:16.5999Z",
          "shell.execute_reply.started": "2024-03-24T17:03:14.790101Z",
          "shell.execute_reply": "2024-03-24T17:03:16.598625Z"
        },
        "trusted": true,
        "id": "f7pxlf2czKVm"
      },
      "execution_count": null,
      "outputs": []
    },
    {
      "cell_type": "code",
      "source": [
        "# Confidence Interval Estimation for Mean of Population BMI\n",
        "\n",
        "bmi_data = dfo[\"BMI\"].tolist()\n",
        "n = len(bmi_data)\n",
        "\n",
        "t_95 = stats.t.ppf(q = 0.975, df=n-1)\n",
        "t_99 = stats.t.ppf(q = 0.995, df=n-1)\n",
        "\n",
        "sample_mean = np.mean(bmi_data)\n",
        "sample_std = np.std(bmi_data)\n",
        "\n",
        "print(\"Point estimate for population mean BMI (Sample mean): \", round(sample_mean, 3))\n",
        "\n",
        "#Lower bound for the CI of population mean (95% confidence)\n",
        "lb_pop_mean_95 = sample_mean - (t_95*(sample_std/math.sqrt(n)))\n",
        "#Upper bound for the CI of population mean (95% confidence)\n",
        "ub_pop_mean_95 = sample_mean + (t_95*(sample_std/math.sqrt(n)))\n",
        "\n",
        "#Lower bound for the CI of population mean (99% confidence)\n",
        "lb_pop_mean_99 = sample_mean - (t_99*(sample_std/math.sqrt(n)))\n",
        "#Upper bound for the CI of population mean (99% confidence)\n",
        "ub_pop_mean_99 = sample_mean + (t_99*(sample_std/math.sqrt(n)))\n",
        "\n",
        "print(\"The 95% Confidence Interval for the mean BMI of the population: ({}, {})\".format(round(lb_pop_mean_95,3), round(ub_pop_mean_95,3)))\n",
        "print(\"The 99% Confidence Interval for the mean BMI of the population: ({}, {})\".format(round(lb_pop_mean_99,3), round(ub_pop_mean_99,3)))"
      ],
      "metadata": {
        "execution": {
          "iopub.status.busy": "2024-03-24T17:07:21.640155Z",
          "iopub.execute_input": "2024-03-24T17:07:21.640605Z",
          "iopub.status.idle": "2024-03-24T17:07:21.72269Z",
          "shell.execute_reply.started": "2024-03-24T17:07:21.640572Z",
          "shell.execute_reply": "2024-03-24T17:07:21.721178Z"
        },
        "trusted": true,
        "id": "TIKmnGbpzKVn"
      },
      "execution_count": null,
      "outputs": []
    },
    {
      "cell_type": "code",
      "source": [
        "# Confidence Interval Estimation for Variance of Population BMI\n",
        "\n",
        "bmi_data = dfo[\"BMI\"].tolist()\n",
        "n = len(bmi_data)\n",
        "a_95 = stats.chi2.ppf(q=(0.05/2), df=n-1)\n",
        "b_95 = stats.chi2.ppf(q= 1-(0.05/2), df=n-1)\n",
        "a_99 = stats.chi2.ppf(q= 0.01/2, df=n-1)\n",
        "b_99 = stats.chi2.ppf(q= 1-(0.01/2), df=n-1)\n",
        "\n",
        "sample_var = np.var(bmi_data)\n",
        "print(\"Point estimate for the variance of population BMI: \", round(sample_var, 3))\n",
        "\n",
        "#Lower bound for the CI of population variance (95% confidence)\n",
        "lb_pop_var_95 = ((n-1)/b_95)*sample_var\n",
        "#Upper bound for the CI of population variance (95% confidence)\n",
        "ub_pop_var_95 = ((n-1)/a_95)*sample_var\n",
        "\n",
        "#Lower bound for the CI of population variance (99% confidence)\n",
        "lb_pop_var_99 = ((n-1)/b_99)*sample_var\n",
        "#Upper bound for the CI of population variance (99% confidence)\n",
        "ub_pop_var_99 = ((n-1)/a_99)*sample_var\n",
        "\n",
        "print(\"The 95% Confidence Interval for the variance of population BMI: ({}, {})\".format(round(lb_pop_var_95,3), round(ub_pop_var_95,3)))\n",
        "print(\"The 99% Confidence Interval for the variance of population BMI: ({}, {})\".format(round(lb_pop_var_99,3), round(ub_pop_var_99,3)))"
      ],
      "metadata": {
        "execution": {
          "iopub.status.busy": "2024-03-24T16:41:10.192013Z",
          "iopub.execute_input": "2024-03-24T16:41:10.192531Z",
          "iopub.status.idle": "2024-03-24T16:41:10.2465Z",
          "shell.execute_reply.started": "2024-03-24T16:41:10.192492Z",
          "shell.execute_reply": "2024-03-24T16:41:10.24536Z"
        },
        "trusted": true,
        "id": "P-q1ELZWzKVn"
      },
      "execution_count": null,
      "outputs": []
    },
    {
      "cell_type": "markdown",
      "source": [
        "## 1.6 Determining the Sample Size"
      ],
      "metadata": {
        "id": "4fqexg6qzKVn"
      }
    },
    {
      "cell_type": "markdown",
      "source": [
        "Q1. How many female patients should we survey in order to be 95% confident that their estimated average height will be within 3 cm of the mean height, given that the previous data indicates a normal distribution of heights ranging from 135 cm to 195 cm?\n",
        "\n",
        "**Crude method:** In this method, we simply replace the $t$-value that depends on n with a $z$-value that (does not because as $n$ increases, the $t$-distribution approaches the standard normal distribution).\n",
        "    Thus,\n",
        "    $$n\\approx \\frac{(z_{\\alpha/2})^2S^2}{E^2}$$\n",
        "    Here, $E$ is the margin of error. Also, as the \\textbf{empirical rule} states that approximately $95\\%$ of the measurements lie in the interval $\\mu \\pm 2\\sigma$, we estimate $\\sigma$ by $S = \\frac{Range}{4}$, where $Range = (\\mu+2\\sigma)-(\\mu-2\\sigma)=4\\sigma$ is the length of the interval."
      ],
      "metadata": {
        "id": "M1XgsCNPzKVn"
      }
    },
    {
      "cell_type": "code",
      "source": [
        "#1. Crude Method\n",
        "z_95 = stats.norm.ppf(q = 0.975)\n",
        "E = 3\n",
        "S = (195-135)/4       # Sample STD estimate\n",
        "n = (((z_95)**2)*(S**2))/(E**2)\n",
        "n"
      ],
      "metadata": {
        "execution": {
          "iopub.status.busy": "2024-03-24T16:00:30.732201Z",
          "iopub.execute_input": "2024-03-24T16:00:30.732722Z",
          "iopub.status.idle": "2024-03-24T16:00:30.743852Z",
          "shell.execute_reply.started": "2024-03-24T16:00:30.732684Z",
          "shell.execute_reply": "2024-03-24T16:00:30.742306Z"
        },
        "trusted": true,
        "id": "MbCVIGfhzKVn"
      },
      "execution_count": null,
      "outputs": []
    },
    {
      "cell_type": "markdown",
      "source": [
        "$\\therefore$ Through the crude method, we have that a sample size of approximately **96 or larger** is recommended to obtain an estimated average female height that we are 95% confident is within 3 cm of the true mean female height.\n"
      ],
      "metadata": {
        "id": "EF9fFb8rzKVo"
      }
    },
    {
      "cell_type": "markdown",
      "source": [
        "**Iterative Method:**\n",
        " A more accurate method to estimate the sample size is to iteratively evaluate the formula since the $t$ value also depends on $n$. We start with an initial guess for $n$ and plugin the formula $$n=\\frac{(t_{\\alpha/2,\\;n−1})^2S^2}{E^2}$$ and iteratively solve for n."
      ],
      "metadata": {
        "id": "n2aokVQkzKVo"
      }
    },
    {
      "cell_type": "code",
      "source": [
        "# 2. Iterative method\n",
        "\n",
        "n = 30    # Initial guess\n",
        "E = 3     # Margin of Error\n",
        "S = (195-135)/4        # Sample STD estimate = Range/4\n",
        "for i in range(8):\n",
        "    t = stats.t.ppf(q=1-(0.05/2), df=n-1)\n",
        "    new_n = ((t**2)*(S**2))/(E**2)\n",
        "    print(\"Iteration {}: \\t Assumed n = {} \\t Calculated n = {}\".format((i+1), round(n,3), round(new_n,3)))\n",
        "    n = new_n\n"
      ],
      "metadata": {
        "execution": {
          "iopub.status.busy": "2024-03-24T16:21:59.425643Z",
          "iopub.execute_input": "2024-03-24T16:21:59.426215Z",
          "iopub.status.idle": "2024-03-24T16:21:59.439286Z",
          "shell.execute_reply.started": "2024-03-24T16:21:59.42616Z",
          "shell.execute_reply": "2024-03-24T16:21:59.43808Z"
        },
        "trusted": true,
        "id": "osTHdpBEzKVo"
      },
      "execution_count": null,
      "outputs": []
    },
    {
      "cell_type": "markdown",
      "source": [
        "$\\therefore$ A sample size of approximately **98 or larger** is recommended to obtain an estimated average female height that we are 95% confident is within 3 cm of the true mean female height.\n"
      ],
      "metadata": {
        "id": "78GZjUfSzKVo"
      }
    },
    {
      "cell_type": "markdown",
      "source": [
        "Q2. How many patients should we survey in order to be 95% confident that their estimated average BMI will be within $5 kg/m^2$ of the mean BMI, given that the previous data indicates a normal distribution of BMIs ranging from $10 kg/m^2$ to $60 kg/m^2$?"
      ],
      "metadata": {
        "id": "8-sEDjORzKVp"
      }
    },
    {
      "cell_type": "code",
      "source": [
        "#1. Crude Method\n",
        "z_95 = stats.norm.ppf(q = 0.975)\n",
        "E = 5\n",
        "S = (60-10)/4       # Sample STD estimate\n",
        "n = (((z_95)**2)*(S**2))/(E**2)\n",
        "n"
      ],
      "metadata": {
        "execution": {
          "iopub.status.busy": "2024-03-24T17:18:30.613392Z",
          "iopub.execute_input": "2024-03-24T17:18:30.613849Z",
          "iopub.status.idle": "2024-03-24T17:18:30.626232Z",
          "shell.execute_reply.started": "2024-03-24T17:18:30.613817Z",
          "shell.execute_reply": "2024-03-24T17:18:30.624512Z"
        },
        "trusted": true,
        "id": "l3sTFi0ezKVp"
      },
      "execution_count": null,
      "outputs": []
    },
    {
      "cell_type": "markdown",
      "source": [
        "$\\therefore$ Through the Crude method, a sample size of approximately **24 or larger** is recommended to obtain an estimated average BMI that we are 95% confident is within $5 kg/m^2$ of the true mean BMI."
      ],
      "metadata": {
        "id": "mXvwSc0czKVp"
      }
    },
    {
      "cell_type": "code",
      "source": [
        "# 2. Iterative method\n",
        "\n",
        "n = 30    # Initial guess\n",
        "E = 5    # Margin of Error\n",
        "S = (60-10)/4        # Sample STD estimate = Range/4\n",
        "for i in range(8):\n",
        "    t = stats.t.ppf(q=1-(0.05/2), df=n-1)\n",
        "    new_n = ((t**2)*(S**2))/(E**2)\n",
        "    print(\"Iteration {}: \\t Assumed n = {} \\t Calculated n = {}\".format((i+1), round(n,3), round(new_n,3)))\n",
        "    n = new_n\n"
      ],
      "metadata": {
        "execution": {
          "iopub.status.busy": "2024-03-24T17:19:26.908105Z",
          "iopub.execute_input": "2024-03-24T17:19:26.909015Z",
          "iopub.status.idle": "2024-03-24T17:19:26.921421Z",
          "shell.execute_reply.started": "2024-03-24T17:19:26.908961Z",
          "shell.execute_reply": "2024-03-24T17:19:26.919912Z"
        },
        "trusted": true,
        "id": "C8dUFgCmzKVp"
      },
      "execution_count": null,
      "outputs": []
    },
    {
      "cell_type": "markdown",
      "source": [
        "$\\therefore$ A sample size of approximately **27 or larger** is recommended to obtain an estimated average BMI that we are 95% confident is within $5 kg/m^2$ of the true mean BMI."
      ],
      "metadata": {
        "id": "pwhKFb1MzKVp"
      }
    },
    {
      "cell_type": "markdown",
      "source": [
        "## 1.7 Confidence Interval for Population Proportion"
      ],
      "metadata": {
        "id": "xoEKy9yjzKVp"
      }
    },
    {
      "cell_type": "markdown",
      "source": [
        "As we have a large number of samples, a $100(1-\\alpha)\\%$ confidence interval for population proportion $\\hat{p}$ is:\n",
        "\n",
        "$$\\hat{p} \\pm z_{\\frac{\\alpha}{2}} \\sqrt{\\frac{\\hat{p}(1-\\hat{p})}{n}}$$"
      ],
      "metadata": {
        "id": "5oMSgkx3zKVq"
      }
    },
    {
      "cell_type": "markdown",
      "source": [
        "### Q1. What percent of the population has a smoking history?"
      ],
      "metadata": {
        "id": "4yDnZlF8zKVq"
      }
    },
    {
      "cell_type": "code",
      "source": [
        "smoke = dfo[\"Smoking_History\"]\n",
        "\n",
        "ax = sns.countplot(data=dfo, x=\"Smoking_History\", order=smoke.value_counts().index)\n",
        "ax.bar_label(ax.containers[0])\n",
        "plt.xlabel(\"Smoking History\")\n",
        "plt.ylabel(\"Number of People\")\n",
        "plt.title(\"Smoking History of People in the Dataset\")\n",
        "\n",
        "plt.show()"
      ],
      "metadata": {
        "execution": {
          "iopub.status.busy": "2024-03-25T16:37:13.733866Z",
          "iopub.execute_input": "2024-03-25T16:37:13.734585Z",
          "iopub.status.idle": "2024-03-25T16:37:14.177601Z",
          "shell.execute_reply.started": "2024-03-25T16:37:13.734526Z",
          "shell.execute_reply": "2024-03-25T16:37:14.176304Z"
        },
        "trusted": true,
        "id": "u0H_Z3GCzKVq"
      },
      "execution_count": null,
      "outputs": []
    },
    {
      "cell_type": "code",
      "source": [
        "smoke = dfo[\"Smoking_History\"]\n",
        "non_smokers = smoke.value_counts().iloc[0]\n",
        "smokers = smoke.value_counts().iloc[1]\n",
        "print(\"In our dataset, out of {} people, {} have a smoking history.\".format(smokers+non_smokers, smokers))"
      ],
      "metadata": {
        "execution": {
          "iopub.status.busy": "2024-03-25T16:37:22.438247Z",
          "iopub.execute_input": "2024-03-25T16:37:22.441654Z",
          "iopub.status.idle": "2024-03-25T16:37:22.49567Z",
          "shell.execute_reply.started": "2024-03-25T16:37:22.441608Z",
          "shell.execute_reply": "2024-03-25T16:37:22.494445Z"
        },
        "trusted": true,
        "id": "uFx0CdU4zKVq"
      },
      "execution_count": null,
      "outputs": []
    },
    {
      "cell_type": "code",
      "source": [
        "z_95 = stats.norm.ppf(q=0.975)\n",
        "n = smokers + non_smokers\n",
        "p_hat = smokers/n\n",
        "lb = p_hat - (z_95 * math.sqrt((p_hat * (1-p_hat))/n))\n",
        "ub = p_hat + (z_95 * math.sqrt((p_hat * (1-p_hat))/n))\n",
        "print(\"We can be 95% confident that between {}% to {}% of the population have a smoking history.\".format(round((lb*100),3), round((ub*100),3)))"
      ],
      "metadata": {
        "execution": {
          "iopub.status.busy": "2024-03-25T16:37:27.775598Z",
          "iopub.execute_input": "2024-03-25T16:37:27.776078Z",
          "iopub.status.idle": "2024-03-25T16:37:27.788483Z",
          "shell.execute_reply.started": "2024-03-25T16:37:27.77604Z",
          "shell.execute_reply": "2024-03-25T16:37:27.787147Z"
        },
        "trusted": true,
        "id": "Z9mBP-fHzKVq"
      },
      "execution_count": null,
      "outputs": []
    },
    {
      "cell_type": "markdown",
      "source": [
        "### Q2. What percent of the population is diabetic?"
      ],
      "metadata": {
        "id": "Cwzocs5vzKVq"
      }
    },
    {
      "cell_type": "code",
      "source": [
        "diabetes = dfo[\"Diabetes\"]\n",
        "\n",
        "ax = sns.countplot(data=dfo, x=\"Diabetes\", order=diabetes.value_counts().index)\n",
        "ax.bar_label(ax.containers[0])\n",
        "plt.xlabel(\"Diabetes\")\n",
        "plt.ylabel(\"Number of People\")\n",
        "plt.title(\"Diabetes in People in the Dataset\")\n",
        "plt.xticks(rotation=90)\n",
        "\n",
        "plt.show()"
      ],
      "metadata": {
        "execution": {
          "iopub.status.busy": "2024-03-25T16:37:55.739186Z",
          "iopub.execute_input": "2024-03-25T16:37:55.740484Z",
          "iopub.status.idle": "2024-03-25T16:37:56.133406Z",
          "shell.execute_reply.started": "2024-03-25T16:37:55.740444Z",
          "shell.execute_reply": "2024-03-25T16:37:56.13204Z"
        },
        "trusted": true,
        "id": "zjkrDyJGzKVr"
      },
      "execution_count": null,
      "outputs": []
    },
    {
      "cell_type": "markdown",
      "source": [
        "Let us treat pre-diabetic patients as diabetic, and females who reported diabetes during pregnancy only to be non-diabetic."
      ],
      "metadata": {
        "id": "hM_wxSmZzKVr"
      }
    },
    {
      "cell_type": "code",
      "source": [
        "diabetes = dfo[\"Diabetes\"]\n",
        "non_diabetic = diabetes.value_counts().iloc[0] + diabetes.value_counts().iloc[3]\n",
        "diabetic = diabetes.value_counts().iloc[1] + diabetes.value_counts().iloc[2]\n",
        "total = non_diabetic + diabetic\n",
        "print(\"In our dataset, out of {} people, {} are diabetic\".format(total, diabetic))"
      ],
      "metadata": {
        "execution": {
          "iopub.status.busy": "2024-03-25T16:38:04.680848Z",
          "iopub.execute_input": "2024-03-25T16:38:04.681317Z",
          "iopub.status.idle": "2024-03-25T16:38:04.783538Z",
          "shell.execute_reply.started": "2024-03-25T16:38:04.681276Z",
          "shell.execute_reply": "2024-03-25T16:38:04.782105Z"
        },
        "trusted": true,
        "id": "COuNtsR-zKVr"
      },
      "execution_count": null,
      "outputs": []
    },
    {
      "cell_type": "code",
      "source": [
        "z_95 = stats.norm.ppf(q=0.975)\n",
        "n = non_diabetic + diabetic\n",
        "p_hat = diabetic/n\n",
        "lb = p_hat - (z_95 * math.sqrt((p_hat * (1-p_hat))/n))\n",
        "ub = p_hat + (z_95 * math.sqrt((p_hat * (1-p_hat))/n))\n",
        "print(\"We can be 95% confident that between {}% to {}% of the population is diabetic.\".format(round((lb*100),3), round((ub*100),3)))"
      ],
      "metadata": {
        "execution": {
          "iopub.status.busy": "2024-03-25T16:38:07.437239Z",
          "iopub.execute_input": "2024-03-25T16:38:07.437641Z",
          "iopub.status.idle": "2024-03-25T16:38:07.445163Z",
          "shell.execute_reply.started": "2024-03-25T16:38:07.437613Z",
          "shell.execute_reply": "2024-03-25T16:38:07.444307Z"
        },
        "trusted": true,
        "id": "G0EQJGMCzKVr"
      },
      "execution_count": null,
      "outputs": []
    },
    {
      "cell_type": "markdown",
      "source": [
        "### Q3. What percent of the population has depression?"
      ],
      "metadata": {
        "id": "dk3GQDuqzKVr"
      }
    },
    {
      "cell_type": "code",
      "source": [
        "depression = dfo[\"Depression\"]\n",
        "\n",
        "ax = sns.countplot(data=dfo, x=\"Depression\", order=depression.value_counts().index)\n",
        "ax.bar_label(ax.containers[0])\n",
        "plt.xlabel(\"Depression\")\n",
        "plt.ylabel(\"Number of People\")\n",
        "plt.title(\"Depression in People in the Dataset\")\n",
        "\n",
        "plt.show()"
      ],
      "metadata": {
        "execution": {
          "iopub.status.busy": "2024-03-25T16:38:16.541351Z",
          "iopub.execute_input": "2024-03-25T16:38:16.541813Z",
          "iopub.status.idle": "2024-03-25T16:38:16.864482Z",
          "shell.execute_reply.started": "2024-03-25T16:38:16.541783Z",
          "shell.execute_reply": "2024-03-25T16:38:16.86352Z"
        },
        "trusted": true,
        "id": "tEEo48_dzKVs"
      },
      "execution_count": null,
      "outputs": []
    },
    {
      "cell_type": "code",
      "source": [
        "depression_data = dfo[\"Depression\"]\n",
        "no_depression = depression_data.value_counts().iloc[0]\n",
        "depression = depression_data.value_counts().iloc[1]\n",
        "total = no_depression + depression\n",
        "print(\"In our dataset, out of {} people, {} are suffering from depression\".format(total, depression))"
      ],
      "metadata": {
        "execution": {
          "iopub.status.busy": "2024-03-25T16:38:20.424985Z",
          "iopub.execute_input": "2024-03-25T16:38:20.425409Z",
          "iopub.status.idle": "2024-03-25T16:38:20.477698Z",
          "shell.execute_reply.started": "2024-03-25T16:38:20.425382Z",
          "shell.execute_reply": "2024-03-25T16:38:20.476879Z"
        },
        "trusted": true,
        "id": "CdVePzORzKVs"
      },
      "execution_count": null,
      "outputs": []
    },
    {
      "cell_type": "code",
      "source": [
        "z_95 = stats.norm.ppf(q=0.975)\n",
        "n = no_depression + depression\n",
        "p_hat = depression/n\n",
        "lb = p_hat - (z_95 * math.sqrt((p_hat * (1-p_hat))/n))\n",
        "ub = p_hat + (z_95 * math.sqrt((p_hat * (1-p_hat))/n))\n",
        "print(\"We can be 95% confident that between {}% to {}% of the population is suffering from depression.\".format(round((lb*100),3), round((ub*100),3)))"
      ],
      "metadata": {
        "execution": {
          "iopub.status.busy": "2024-03-25T16:38:22.995514Z",
          "iopub.execute_input": "2024-03-25T16:38:22.995908Z",
          "iopub.status.idle": "2024-03-25T16:38:23.004325Z",
          "shell.execute_reply.started": "2024-03-25T16:38:22.995881Z",
          "shell.execute_reply": "2024-03-25T16:38:23.003016Z"
        },
        "trusted": true,
        "id": "HQKfFeXTzKVs"
      },
      "execution_count": null,
      "outputs": []
    },
    {
      "cell_type": "markdown",
      "source": [
        "### Q4. What percent of the population is involved in exercise or any kind of physical activities?"
      ],
      "metadata": {
        "id": "i_iFzk3jzKVs"
      }
    },
    {
      "cell_type": "code",
      "source": [
        "exercise = dfo[\"Exercise\"]\n",
        "\n",
        "ax = sns.countplot(data=dfo, x=\"Exercise\", order=exercise.value_counts().index)\n",
        "ax.bar_label(ax.containers[0])\n",
        "plt.xlabel(\"Exercise\")\n",
        "plt.ylabel(\"Number of People\")\n",
        "plt.title(\"Number of Patients involved in Exercise in the Dataset\")\n",
        "\n",
        "plt.show()"
      ],
      "metadata": {
        "execution": {
          "iopub.status.busy": "2024-03-25T16:38:36.29228Z",
          "iopub.execute_input": "2024-03-25T16:38:36.29268Z",
          "iopub.status.idle": "2024-03-25T16:38:36.626232Z",
          "shell.execute_reply.started": "2024-03-25T16:38:36.292654Z",
          "shell.execute_reply": "2024-03-25T16:38:36.624861Z"
        },
        "trusted": true,
        "id": "2-lfyNrBzKVs"
      },
      "execution_count": null,
      "outputs": []
    },
    {
      "cell_type": "code",
      "source": [
        "exercise_data = dfo[\"Exercise\"]\n",
        "no_exercise = exercise_data.value_counts().iloc[0]\n",
        "exercise = exercise_data.value_counts().iloc[1]\n",
        "total = no_exercise + exercise\n",
        "print(\"In our dataset, out of {} patients, {} are involved in exercise.\".format(total, exercise))"
      ],
      "metadata": {
        "execution": {
          "iopub.status.busy": "2024-03-25T16:38:40.086792Z",
          "iopub.execute_input": "2024-03-25T16:38:40.087271Z",
          "iopub.status.idle": "2024-03-25T16:38:40.142375Z",
          "shell.execute_reply.started": "2024-03-25T16:38:40.087235Z",
          "shell.execute_reply": "2024-03-25T16:38:40.14119Z"
        },
        "trusted": true,
        "id": "83whtDG7zKVt"
      },
      "execution_count": null,
      "outputs": []
    },
    {
      "cell_type": "code",
      "source": [
        "z_95 = stats.norm.ppf(q=0.975)\n",
        "n = no_exercise + exercise\n",
        "p_hat = exercise/n\n",
        "lb = p_hat - (z_95 * math.sqrt((p_hat * (1-p_hat))/n))\n",
        "ub = p_hat + (z_95 * math.sqrt((p_hat * (1-p_hat))/n))\n",
        "print(\"We can be 95% confident that between {}% to {}% of the population is involved in exercise or physical activities.\".format(round((lb*100),3), round((ub*100),3)))"
      ],
      "metadata": {
        "execution": {
          "iopub.status.busy": "2024-03-25T16:38:42.119427Z",
          "iopub.execute_input": "2024-03-25T16:38:42.120513Z",
          "iopub.status.idle": "2024-03-25T16:38:42.131389Z",
          "shell.execute_reply.started": "2024-03-25T16:38:42.120375Z",
          "shell.execute_reply": "2024-03-25T16:38:42.13Z"
        },
        "trusted": true,
        "id": "Yec7wkjLzKVt"
      },
      "execution_count": null,
      "outputs": []
    },
    {
      "cell_type": "markdown",
      "source": [
        "### Q5. What percent of the population has heart disease?"
      ],
      "metadata": {
        "id": "Oej3zv_jzKVt"
      }
    },
    {
      "cell_type": "code",
      "source": [
        "hd = dfo[\"Heart_Disease\"]\n",
        "\n",
        "ax = sns.countplot(data=dfo, x=\"Heart_Disease\", order=hd.value_counts().index)\n",
        "ax.bar_label(ax.containers[0])\n",
        "plt.xlabel(\"Heart Disease\")\n",
        "plt.ylabel(\"Number of People\")\n",
        "plt.title(\"Number of Patients with Heart Disease in the Dataset\")\n",
        "\n",
        "plt.show()"
      ],
      "metadata": {
        "execution": {
          "iopub.status.busy": "2024-03-25T16:38:50.718787Z",
          "iopub.execute_input": "2024-03-25T16:38:50.719238Z",
          "iopub.status.idle": "2024-03-25T16:38:51.038394Z",
          "shell.execute_reply.started": "2024-03-25T16:38:50.719209Z",
          "shell.execute_reply": "2024-03-25T16:38:51.037226Z"
        },
        "trusted": true,
        "id": "tkOWcYkMzKVt"
      },
      "execution_count": null,
      "outputs": []
    },
    {
      "cell_type": "code",
      "source": [
        "hd_data = dfo[\"Heart_Disease\"]\n",
        "no_hd = hd_data.value_counts().iloc[0]\n",
        "hd = hd_data.value_counts().iloc[1]\n",
        "total = no_hd + hd\n",
        "print(\"In our dataset, out of {} patients, {} have heart disease.\".format(total, hd))"
      ],
      "metadata": {
        "execution": {
          "iopub.status.busy": "2024-03-25T16:38:54.3981Z",
          "iopub.execute_input": "2024-03-25T16:38:54.398544Z",
          "iopub.status.idle": "2024-03-25T16:38:54.451853Z",
          "shell.execute_reply.started": "2024-03-25T16:38:54.398511Z",
          "shell.execute_reply": "2024-03-25T16:38:54.450647Z"
        },
        "trusted": true,
        "id": "dqMsfB8QzKVt"
      },
      "execution_count": null,
      "outputs": []
    },
    {
      "cell_type": "code",
      "source": [
        "z_95 = stats.norm.ppf(q=0.975)\n",
        "n = no_hd + hd\n",
        "p_hat = hd/n\n",
        "lb = p_hat - (z_95 * math.sqrt((p_hat * (1-p_hat))/n))\n",
        "ub = p_hat + (z_95 * math.sqrt((p_hat * (1-p_hat))/n))\n",
        "print(\"We can be 95% confident that between {}% to {}% of the population has heart disease.\".format(round((lb*100),3), round((ub*100),3)))"
      ],
      "metadata": {
        "execution": {
          "iopub.status.busy": "2024-03-25T16:38:57.08669Z",
          "iopub.execute_input": "2024-03-25T16:38:57.087124Z",
          "iopub.status.idle": "2024-03-25T16:38:57.095512Z",
          "shell.execute_reply.started": "2024-03-25T16:38:57.087096Z",
          "shell.execute_reply": "2024-03-25T16:38:57.094183Z"
        },
        "trusted": true,
        "id": "aeJCBDREzKVt"
      },
      "execution_count": null,
      "outputs": []
    },
    {
      "cell_type": "markdown",
      "source": [
        "### Q6. Difference in Proportion of Male Smokers and Female Smokers"
      ],
      "metadata": {
        "id": "4mi0NhsxzKVu"
      }
    },
    {
      "cell_type": "code",
      "source": [
        "column = 'Smoking_History'\n",
        "target = 'Sex'\n",
        "\n",
        "fig,ax = plt.subplots(figsize = (7,6))\n",
        "\n",
        "#color = 'Set2'\n",
        "\n",
        "#palette_color = sns.color_palette(color)\n",
        "\n",
        "ax = sns.countplot(x = column, data=dfo, hue=target, order = dfo[column].value_counts().index)\n",
        "ax.set_ylabel('Count')\n",
        "\n",
        "offset = dfo[column].value_counts().max() * 0.005\n",
        "\n",
        "list_bars = dfo.groupby([column,target])[column].agg(['count']).unstack().fillna(0).values\n",
        "\n",
        "patches = ax.patches\n",
        "bars_pos = 0\n",
        "\n",
        "for i in range(dfo[target].nunique()):\n",
        "    for j in range(dfo[column].nunique()):\n",
        "        list_bars_col = list_bars[j]\n",
        "        total_sum = list_bars_col.sum()\n",
        "        value = list_bars_col[i]\n",
        "\n",
        "        percentage = value / total_sum\n",
        "\n",
        "        if percentage == 0:\n",
        "            bars_pos += 1\n",
        "            continue\n",
        "        else:\n",
        "            x = patches[bars_pos].get_x() + patches[j].get_width()/2\n",
        "            y = patches[bars_pos].get_height() + offset\n",
        "            ax.annotate('{:.1f}%'.format(percentage*100), (x, y), ha='center')\n",
        "            bars_pos += 1\n",
        "plt.ylabel(\"Number of People\")\n",
        "plt.title(\"Smoking History vs Gender\")\n",
        "plt.show()"
      ],
      "metadata": {
        "execution": {
          "iopub.status.busy": "2024-04-21T11:37:57.813698Z",
          "iopub.execute_input": "2024-04-21T11:37:57.814199Z",
          "iopub.status.idle": "2024-04-21T11:37:58.530228Z",
          "shell.execute_reply.started": "2024-04-21T11:37:57.814079Z",
          "shell.execute_reply": "2024-04-21T11:37:58.529064Z"
        },
        "trusted": true,
        "id": "nP7BLZS_zKVu"
      },
      "execution_count": null,
      "outputs": []
    },
    {
      "cell_type": "code",
      "source": [
        "df_female = dfo.loc[dfo[\"Sex\"]==\"Female\", :]\n",
        "df_male = dfo.loc[dfo[\"Sex\"]==\"Male\", :]\n",
        "\n",
        "male_smo = df_male[\"Smoking_History\"]\n",
        "female_smo = df_female[\"Smoking_History\"]\n",
        "male_non_smokers = male_smo.value_counts().iloc[0]\n",
        "female_non_smokers = female_smo.value_counts().iloc[0]\n",
        "male_smokers = male_smo.value_counts().iloc[1]\n",
        "female_smokers = female_smo.value_counts().iloc[1]\n",
        "n_male = len(male_smo)\n",
        "n_female = len(female_smo)\n",
        "p1 = male_smokers/n_male      # (sample) proportion of male smokers\n",
        "p2 = female_smokers/n_female\n",
        "\n",
        "print(\"Number of male smokers: {}, and number of male residents who do not smoke: {}\".format(male_smokers, male_non_smokers))\n",
        "print(\"Number of female smokers: {}, and number of female residents who do not smoke: {}\".format(female_smokers, female_non_smokers))\n",
        "print(\"(Sample) Proportion of male smokers (p1):\", p1)\n",
        "print(\"(Sample) Proportion of female smokers (p2):\", p2)"
      ],
      "metadata": {
        "execution": {
          "iopub.status.busy": "2024-04-21T11:37:53.532342Z",
          "iopub.execute_input": "2024-04-21T11:37:53.532761Z",
          "iopub.status.idle": "2024-04-21T11:37:53.694846Z",
          "shell.execute_reply.started": "2024-04-21T11:37:53.532724Z",
          "shell.execute_reply": "2024-04-21T11:37:53.693603Z"
        },
        "trusted": true,
        "id": "E4wAZRzLzKVu"
      },
      "execution_count": null,
      "outputs": []
    },
    {
      "cell_type": "markdown",
      "source": [
        "We can say that about 44.3% of the male residents are smokers, and so are about 37.1% of the female residents."
      ],
      "metadata": {
        "id": "_OaoWgqEzKVu"
      }
    },
    {
      "cell_type": "code",
      "source": [
        "z_95 = stats.norm.ppf(q=1-0.025)\n",
        "z_99 = stats.norm.ppf(q=1-(0.01/2))"
      ],
      "metadata": {
        "execution": {
          "iopub.status.busy": "2024-04-18T06:31:17.979531Z",
          "iopub.execute_input": "2024-04-18T06:31:17.980016Z",
          "iopub.status.idle": "2024-04-18T06:31:17.987816Z",
          "shell.execute_reply.started": "2024-04-18T06:31:17.979982Z",
          "shell.execute_reply": "2024-04-18T06:31:17.986488Z"
        },
        "trusted": true,
        "id": "42NP_Hr1zKVu"
      },
      "execution_count": null,
      "outputs": []
    },
    {
      "cell_type": "code",
      "source": [
        "temp = ((p1*(1-p1))/n_male) + ((p2*(1-p2))/n_female)\n",
        "lb_95 = (p1-p2) - (z_95 * math.sqrt(temp))\n",
        "ub_95 = (p1-p2) + (z_95 * math.sqrt(temp))\n",
        "\n",
        "lb_99 = (p1-p2) - (z_99 * math.sqrt(temp))\n",
        "ub_99 = (p1-p2) + (z_99 * math.sqrt(temp))\n",
        "\n",
        "print(\"Confidence intervals for difference in proportion of male and female smokers:\")\n",
        "print(\"The 95% Confidence Interval: ({}, {})\".format(round(lb_95,3), round(ub_95,3)))\n",
        "print(\"The 99% Confidence Interval: ({}, {})\".format(round(lb_99,3), round(ub_99,3)))\n"
      ],
      "metadata": {
        "execution": {
          "iopub.status.busy": "2024-04-18T06:34:13.451117Z",
          "iopub.execute_input": "2024-04-18T06:34:13.451676Z",
          "iopub.status.idle": "2024-04-18T06:34:13.461785Z",
          "shell.execute_reply.started": "2024-04-18T06:34:13.451639Z",
          "shell.execute_reply": "2024-04-18T06:34:13.460605Z"
        },
        "trusted": true,
        "id": "hiDwoBp1zKVv"
      },
      "execution_count": null,
      "outputs": []
    },
    {
      "cell_type": "markdown",
      "source": [
        "We can be 95% confident that 6.9% to 7.6% more male residents of the US are smokers as compared to the female residents."
      ],
      "metadata": {
        "id": "vnOY2ovHzKVv"
      }
    },
    {
      "cell_type": "markdown",
      "source": [
        "### Q7. Difference in Proportion: Depression in Women and Men"
      ],
      "metadata": {
        "id": "v-7EKWaOzKVv"
      }
    },
    {
      "cell_type": "code",
      "source": [
        "column = 'Depression'\n",
        "target = 'Sex'\n",
        "\n",
        "fig,ax = plt.subplots(figsize = (7,6))\n",
        "\n",
        "#color = 'Set2'\n",
        "\n",
        "#palette_color = sns.color_palette(color)\n",
        "\n",
        "ax = sns.countplot(x = column, data=dfo, hue=target, order = dfo[column].value_counts().index)\n",
        "ax.set_ylabel('Count')\n",
        "\n",
        "offset = dfo[column].value_counts().max() * 0.005\n",
        "\n",
        "list_bars = dfo.groupby([column,target])[column].agg(['count']).unstack().fillna(0).values\n",
        "\n",
        "patches = ax.patches\n",
        "bars_pos = 0\n",
        "\n",
        "for i in range(dfo[target].nunique()):\n",
        "    for j in range(dfo[column].nunique()):\n",
        "        list_bars_col = list_bars[j]\n",
        "        total_sum = list_bars_col.sum()\n",
        "        value = list_bars_col[i]\n",
        "\n",
        "        percentage = value / total_sum\n",
        "\n",
        "        if percentage == 0:\n",
        "            bars_pos += 1\n",
        "            continue\n",
        "        else:\n",
        "            x = patches[bars_pos].get_x() + patches[j].get_width()/2\n",
        "            y = patches[bars_pos].get_height() + offset\n",
        "            ax.annotate('{:.1f}%'.format(percentage*100), (x, y), ha='center')\n",
        "            bars_pos += 1\n",
        "plt.ylabel(\"Number of People\")\n",
        "plt.title(\"Depression vs Gender\")\n",
        "plt.show()"
      ],
      "metadata": {
        "execution": {
          "iopub.status.busy": "2024-04-21T11:26:50.816313Z",
          "iopub.execute_input": "2024-04-21T11:26:50.816785Z",
          "iopub.status.idle": "2024-04-21T11:26:51.499052Z",
          "shell.execute_reply.started": "2024-04-21T11:26:50.816715Z",
          "shell.execute_reply": "2024-04-21T11:26:51.497885Z"
        },
        "trusted": true,
        "id": "BLWHNiqkzKVv"
      },
      "execution_count": null,
      "outputs": []
    },
    {
      "cell_type": "code",
      "source": [
        "df_female = dfo.loc[dfo[\"Sex\"]==\"Female\", :]\n",
        "df_male = dfo.loc[dfo[\"Sex\"]==\"Male\", :]\n",
        "\n",
        "male_dep = df_male[\"Depression\"]\n",
        "female_dep = df_female[\"Depression\"]\n",
        "male_non_depressed = male_dep.value_counts().iloc[0]\n",
        "female_non_depressed = female_dep.value_counts().iloc[0]\n",
        "male_depressed = male_dep.value_counts().iloc[1]\n",
        "female_depressed = female_dep.value_counts().iloc[1]\n",
        "n_male = len(male_dep)\n",
        "n_female = len(female_dep)\n",
        "p1 = female_depressed/n_female\n",
        "p2 = male_depressed/n_male      # (sample) proportion of depressed men\n",
        "\n",
        "\n",
        "print(\"Number of depressed men: {}, and number of men who are not depressed: {}\".format(male_depressed, male_non_depressed))\n",
        "print(\"Number of depressed women: {}, and number of women who are not depressed: {}\".format(female_depressed, female_non_depressed))\n",
        "\n",
        "print(\"(Sample) Proportion of depressed women (p1):\", p1)\n",
        "print(\"(Sample) Proportion of depressed men (p2):\", p2)"
      ],
      "metadata": {
        "execution": {
          "iopub.status.busy": "2024-04-21T11:59:46.956125Z",
          "iopub.execute_input": "2024-04-21T11:59:46.956526Z",
          "iopub.status.idle": "2024-04-21T11:59:47.133201Z",
          "shell.execute_reply.started": "2024-04-21T11:59:46.956493Z",
          "shell.execute_reply": "2024-04-21T11:59:47.131855Z"
        },
        "trusted": true,
        "id": "B71JDTZGzKVw"
      },
      "execution_count": null,
      "outputs": []
    },
    {
      "cell_type": "code",
      "source": [
        "z_95 = stats.norm.ppf(q=1-0.025)\n",
        "z_99 = stats.norm.ppf(q=1-(0.01/2))"
      ],
      "metadata": {
        "execution": {
          "iopub.status.busy": "2024-04-21T11:44:53.821959Z",
          "iopub.execute_input": "2024-04-21T11:44:53.8224Z",
          "iopub.status.idle": "2024-04-21T11:44:53.830912Z",
          "shell.execute_reply.started": "2024-04-21T11:44:53.822364Z",
          "shell.execute_reply": "2024-04-21T11:44:53.829701Z"
        },
        "trusted": true,
        "id": "_Ma_DK6szKVw"
      },
      "execution_count": null,
      "outputs": []
    },
    {
      "cell_type": "code",
      "source": [
        "temp = ((p1*(1-p1))/n_male) + ((p2*(1-p2))/n_female)\n",
        "lb_95 = (p1-p2) - (z_95 * math.sqrt(temp))\n",
        "ub_95 = (p1-p2) + (z_95 * math.sqrt(temp))\n",
        "\n",
        "lb_99 = (p1-p2) - (z_99 * math.sqrt(temp))\n",
        "ub_99 = (p1-p2) + (z_99 * math.sqrt(temp))\n",
        "\n",
        "print(\"Confidence intervals for difference in proportion of depression in female and male residents of the US:\")\n",
        "print(\"The 95% Confidence Interval: ({}, {})\".format(round(lb_95,3), round(ub_95,3)))\n",
        "print(\"The 99% Confidence Interval: ({}, {})\".format(round(lb_99,3), round(ub_99,3)))\n"
      ],
      "metadata": {
        "execution": {
          "iopub.status.busy": "2024-04-21T12:00:18.209032Z",
          "iopub.execute_input": "2024-04-21T12:00:18.209448Z",
          "iopub.status.idle": "2024-04-21T12:00:18.218549Z",
          "shell.execute_reply.started": "2024-04-21T12:00:18.209415Z",
          "shell.execute_reply": "2024-04-21T12:00:18.217176Z"
        },
        "trusted": true,
        "id": "L6BmRwK-zKVw"
      },
      "execution_count": null,
      "outputs": []
    },
    {
      "cell_type": "markdown",
      "source": [
        "We can be 95% confident that 11.1% to 11.6% more women in the US suffer from depression as compared to men."
      ],
      "metadata": {
        "id": "YB1MyWK2zKVw"
      }
    },
    {
      "cell_type": "markdown",
      "source": [
        "<hr>"
      ],
      "metadata": {
        "id": "3b_0c2LKzKVw"
      }
    },
    {
      "cell_type": "markdown",
      "source": [
        "# 2. Hypothesis Testing on Numerical Features"
      ],
      "metadata": {
        "id": "5NsHJMYvzKVw"
      }
    },
    {
      "cell_type": "markdown",
      "source": [
        "### 1. Whether the average male height in the US was still 175.3 cm in 2021 (Reported by Wikipedia, 2015-18)\n",
        "$H_0$: Average height of the male population in the US is 175.3 cm $(\\mu = 175.3)$\n",
        "\n",
        "$H_a$: Average height of the male population in the US is not 175.3 cm $(\\mu \\neq 175.3)$"
      ],
      "metadata": {
        "id": "jSL0SNyIzKVx"
      }
    },
    {
      "cell_type": "code",
      "source": [
        "df_male = dfo.loc[dfo[\"Sex\"]==\"Male\", :]\n",
        "n = df_male.shape[0]\n",
        "male_heights = df_male[\"Height_(cm)\"].tolist()\n",
        "S = np.std(male_heights)\n",
        "xbar = np.mean(male_heights)\n",
        "mu0 = 175.3\n",
        "\n",
        "# Let t_test denote the test statistic (t*)\n",
        "t_test = (xbar - mu0)/(S/math.sqrt(n))\n",
        "print(\"Value of the test statistic is: t* =\", t_test)"
      ],
      "metadata": {
        "execution": {
          "iopub.status.busy": "2024-04-06T11:21:49.225667Z",
          "iopub.execute_input": "2024-04-06T11:21:49.226074Z",
          "iopub.status.idle": "2024-04-06T11:21:49.318856Z",
          "shell.execute_reply.started": "2024-04-06T11:21:49.226047Z",
          "shell.execute_reply": "2024-04-06T11:21:49.317527Z"
        },
        "trusted": true,
        "id": "M38hpiKzzKVx"
      },
      "execution_count": null,
      "outputs": []
    },
    {
      "cell_type": "code",
      "source": [
        "print(\"Value of t from table at alpha = 0.05 and n-1 degrees of freedom:\", stats.t.ppf(q=1-(0.05/2), df=n-1))"
      ],
      "metadata": {
        "execution": {
          "iopub.status.busy": "2024-04-05T13:50:09.323855Z",
          "iopub.execute_input": "2024-04-05T13:50:09.324297Z",
          "iopub.status.idle": "2024-04-05T13:50:09.333528Z",
          "shell.execute_reply.started": "2024-04-05T13:50:09.324265Z",
          "shell.execute_reply": "2024-04-05T13:50:09.33154Z"
        },
        "trusted": true,
        "id": "wmm95g_mzKVx"
      },
      "execution_count": null,
      "outputs": []
    },
    {
      "cell_type": "markdown",
      "source": [
        "### Rejection Region Approach:\n",
        "The rejection region is $|t^*|\\leq t_{\\alpha/2, n-1}$, which means that we will reject the null hypothesis if $t^* > 1.96$ or $t^* < -1.96$.\n",
        "\n",
        "Clearly, we have $t^* = 150.1 > 1.96$, so we will reject the null hypothesis $H_0$."
      ],
      "metadata": {
        "id": "O9xrL6lszKVx"
      }
    },
    {
      "cell_type": "markdown",
      "source": [
        "### p-Value Approach:\n",
        "p-value for two-tailed test: $p = 2P(t \\geq |t^*|)$"
      ],
      "metadata": {
        "id": "ASqdW1_KzKVy"
      }
    },
    {
      "cell_type": "markdown",
      "source": [
        "**Note:** stats.t.sf(t*, df) returns the area under the curve of the t-distribution to the right of $t^*$. That is, it returns the value of $P(t \\geq t^*).$"
      ],
      "metadata": {
        "id": "NxtIBZI9zKVy"
      }
    },
    {
      "cell_type": "code",
      "source": [
        "print(\"The p-value is: \", stats.t.sf(t_test, df=n-1))"
      ],
      "metadata": {
        "execution": {
          "iopub.status.busy": "2024-04-05T13:50:28.672019Z",
          "iopub.execute_input": "2024-04-05T13:50:28.672435Z",
          "iopub.status.idle": "2024-04-05T13:50:28.68248Z",
          "shell.execute_reply.started": "2024-04-05T13:50:28.672405Z",
          "shell.execute_reply": "2024-04-05T13:50:28.681446Z"
        },
        "trusted": true,
        "id": "zuNNLgvBzKVy"
      },
      "execution_count": null,
      "outputs": []
    },
    {
      "cell_type": "markdown",
      "source": [
        "Clearly, the p-value $\\approx$ 0 $<\\alpha = 0.05$. So, we reject the null hypothesis."
      ],
      "metadata": {
        "id": "HbXtjlj1zKVy"
      }
    },
    {
      "cell_type": "markdown",
      "source": [
        "### 2. Whether the average female height in the US is greater than 161.3 cm (which was the value reported in Wikipedia in 2015-18)\n",
        "$H_0$: Average height of the female population in the US has not increased from 161.3 cm $(\\mu \\leq 161.3)$\n",
        "\n",
        "$H_a$: Average height of the female population in the US has increased from 161.3 cm $(\\mu > 161.3)$"
      ],
      "metadata": {
        "id": "wynjIY52zKVy"
      }
    },
    {
      "cell_type": "code",
      "source": [
        "df_female = dfo.loc[dfo[\"Sex\"]==\"Female\", :]\n",
        "female_heights = df_female[\"Height_(cm)\"].tolist()\n",
        "n = len(female_heights)\n",
        "S = np.std(female_heights)\n",
        "xbar = np.mean(female_heights)\n",
        "mu0 = 161.3\n",
        "\n",
        "# Let t_test denote the test statistic (t*)\n",
        "t_test = (xbar - mu0)/(S/math.sqrt(n))\n",
        "print(\"Value of the test statistic is: t* =\", t_test)"
      ],
      "metadata": {
        "execution": {
          "iopub.status.busy": "2024-04-12T06:31:18.504346Z",
          "iopub.execute_input": "2024-04-12T06:31:18.504713Z",
          "iopub.status.idle": "2024-04-12T06:31:18.595493Z",
          "shell.execute_reply.started": "2024-04-12T06:31:18.50468Z",
          "shell.execute_reply": "2024-04-12T06:31:18.594366Z"
        },
        "trusted": true,
        "id": "I74oNC6nzKVy"
      },
      "execution_count": null,
      "outputs": []
    },
    {
      "cell_type": "code",
      "source": [
        "print(\"Value of t from table at alpha = 0.05 and n-1 degrees of freedom:\", stats.t.ppf(q=1-0.05, df=n-1))"
      ],
      "metadata": {
        "execution": {
          "iopub.status.busy": "2024-04-12T06:31:22.647653Z",
          "iopub.execute_input": "2024-04-12T06:31:22.648046Z",
          "iopub.status.idle": "2024-04-12T06:31:22.6581Z",
          "shell.execute_reply.started": "2024-04-12T06:31:22.648014Z",
          "shell.execute_reply": "2024-04-12T06:31:22.656653Z"
        },
        "trusted": true,
        "id": "pM4SI9KszKVz"
      },
      "execution_count": null,
      "outputs": []
    },
    {
      "cell_type": "markdown",
      "source": [
        "### Rejection Region Approach:\n",
        "The rejection region is $|t^*| \\geq t_{\\alpha/2, n-1}$, which means that we will reject the null hypothesis if $t^* \\geq 1.96$.\n",
        "\n",
        "Clearly, we have $t^* = 115.2 > 1.96$, so we will reject the null hypothesis $H_0$."
      ],
      "metadata": {
        "id": "56fvhvIqzKVz"
      }
    },
    {
      "cell_type": "markdown",
      "source": [
        "### p-Value Approach:\n",
        "p-value for right-tailed test: $p = P(t \\geq t^*)$"
      ],
      "metadata": {
        "id": "LD4BU8BszKVz"
      }
    },
    {
      "cell_type": "code",
      "source": [
        "print(\"The p-value is: \", stats.t.sf(t_test, df=n-1))"
      ],
      "metadata": {
        "execution": {
          "iopub.status.busy": "2024-04-05T14:04:35.749938Z",
          "iopub.execute_input": "2024-04-05T14:04:35.750376Z",
          "iopub.status.idle": "2024-04-05T14:04:35.756786Z",
          "shell.execute_reply.started": "2024-04-05T14:04:35.750344Z",
          "shell.execute_reply": "2024-04-05T14:04:35.755578Z"
        },
        "trusted": true,
        "id": "izS0CLxUzKVz"
      },
      "execution_count": null,
      "outputs": []
    },
    {
      "cell_type": "markdown",
      "source": [
        "Clearly, the p-value $\\approx$ 0 $< \\alpha = 0.05$. So, we reject the null hypothesis."
      ],
      "metadata": {
        "id": "biJEnbROzKVz"
      }
    },
    {
      "cell_type": "markdown",
      "source": [
        "### 3. Is the variance in BMI is lesser than $40 kg/m^2$?"
      ],
      "metadata": {
        "id": "4DZ42pTjzKVz"
      }
    },
    {
      "cell_type": "markdown",
      "source": [
        "$H_0$: $\\sigma^2 \\geq 40$\n",
        "\n",
        "$H_a$: $\\sigma^2 < 40$"
      ],
      "metadata": {
        "id": "Q61Zi17CzKVz"
      }
    },
    {
      "cell_type": "code",
      "source": [
        "bmi_data = dfo[\"BMI\"].tolist()\n",
        "n = len(bmi_data)\n",
        "sigma0 = 40\n",
        "var = np.var(bmi_data)\n",
        "ts = ((n-1)*var)/(sigma0)\n",
        "print(\"Value of the test statistic:\", ts)\n"
      ],
      "metadata": {
        "execution": {
          "iopub.status.busy": "2024-04-21T18:39:32.51004Z",
          "iopub.execute_input": "2024-04-21T18:39:32.510514Z",
          "iopub.status.idle": "2024-04-21T18:39:32.561945Z",
          "shell.execute_reply.started": "2024-04-21T18:39:32.510483Z",
          "shell.execute_reply": "2024-04-21T18:39:32.560553Z"
        },
        "trusted": true,
        "id": "8UyE_e9uzKV0"
      },
      "execution_count": null,
      "outputs": []
    },
    {
      "cell_type": "code",
      "source": [
        "var"
      ],
      "metadata": {
        "execution": {
          "iopub.status.busy": "2024-04-21T14:46:52.812878Z",
          "iopub.execute_input": "2024-04-21T14:46:52.813352Z",
          "iopub.status.idle": "2024-04-21T14:46:52.822581Z",
          "shell.execute_reply.started": "2024-04-21T14:46:52.813316Z",
          "shell.execute_reply": "2024-04-21T14:46:52.821035Z"
        },
        "trusted": true,
        "id": "UpjI8lSfzKV0"
      },
      "execution_count": null,
      "outputs": []
    },
    {
      "cell_type": "markdown",
      "source": [
        "Critical value: $\\chi^2_L$ at $1-\\alpha$ and $n-1$ degrees of freedom."
      ],
      "metadata": {
        "id": "QkHKFp2UzKV0"
      }
    },
    {
      "cell_type": "code",
      "source": [
        "print(\"Critical value:\", stats.chi2.ppf(q=0.05, df=n-1))"
      ],
      "metadata": {
        "execution": {
          "iopub.status.busy": "2024-04-21T18:33:39.326168Z",
          "iopub.execute_input": "2024-04-21T18:33:39.326607Z",
          "iopub.status.idle": "2024-04-21T18:33:39.334461Z",
          "shell.execute_reply.started": "2024-04-21T18:33:39.326576Z",
          "shell.execute_reply": "2024-04-21T18:33:39.333007Z"
        },
        "trusted": true,
        "id": "SeUxB6o1zKV0"
      },
      "execution_count": null,
      "outputs": []
    },
    {
      "cell_type": "markdown",
      "source": [
        "### Rejection Region Approach\n",
        "We can reject $H_0$ if $\\chi^2_{test} < \\chi^2_L$, where $\\chi^2_{test}$ is the test statistic. However, here we have that $\\chi^2_{test} > \\chi^2_L$. Hence, we fail to reject the null hypothesis."
      ],
      "metadata": {
        "id": "cifQ-_3jzKV0"
      }
    },
    {
      "cell_type": "markdown",
      "source": [
        "### p-Value Approach\n",
        "p-Value for left-tailed test is $p = P(\\chi^2 \\leq \\chi^2_{test})$."
      ],
      "metadata": {
        "id": "DyaT6ZqAzKV0"
      }
    },
    {
      "cell_type": "code",
      "source": [
        "stats.chi2.cdf(ts, df=n-1)"
      ],
      "metadata": {
        "execution": {
          "iopub.status.busy": "2024-04-21T18:39:54.789364Z",
          "iopub.execute_input": "2024-04-21T18:39:54.789801Z",
          "iopub.status.idle": "2024-04-21T18:39:54.799524Z",
          "shell.execute_reply.started": "2024-04-21T18:39:54.789755Z",
          "shell.execute_reply": "2024-04-21T18:39:54.797894Z"
        },
        "trusted": true,
        "id": "OquYuduOzKV1"
      },
      "execution_count": null,
      "outputs": []
    },
    {
      "cell_type": "markdown",
      "source": [
        "Clearly, $p \\approx 1 > 0.05 = \\alpha$, so we fail to reject the null hypothesis."
      ],
      "metadata": {
        "id": "UZx8exUAzKV1"
      }
    },
    {
      "cell_type": "markdown",
      "source": [
        " We do not have enough evidence to claim that the US population's BMI variability is less than 40 $kg/m^2$. A greater variance in BMI indicates that the individuals have a wide range of body sizes and shapes. This could include both underweight and severely obese individuals."
      ],
      "metadata": {
        "id": "q0GAmRpfzKV1"
      }
    },
    {
      "cell_type": "markdown",
      "source": [
        "### 4. Are men in the US more than 14.8 cm (5.8 inches) taller than women on average?"
      ],
      "metadata": {
        "id": "aNbUKf19zKV1"
      }
    },
    {
      "cell_type": "markdown",
      "source": [
        "This might be, for example, relevant to the fashion industry in a sense that the apparels manufactured for men and women would have a difference of 14.8 cm in length on average."
      ],
      "metadata": {
        "id": "shc1Ff85zKV1"
      }
    },
    {
      "cell_type": "markdown",
      "source": [
        "Let $\\mu_{men}$ and $\\mu_{women}$ denote the mean population height of men and women respectively.\n",
        "\n",
        "$H_0:$ Men in the US are not more than 14.8 cm taller than women on average $(\\mu_{men} - \\mu_{women} \\leq 14.8)$\n",
        "\n",
        "$H_a:$ Men in the US are more than 14.8 cm taller than women on average $(\\mu_{men} - \\mu_{women} > 14.8)$\n",
        "\n",
        "This is a right-tailed test."
      ],
      "metadata": {
        "id": "zcvjUsoUzKV2"
      }
    },
    {
      "cell_type": "code",
      "source": [
        "df_female = dfo.loc[dfo[\"Sex\"]==\"Female\", :]\n",
        "df_male = dfo.loc[dfo[\"Sex\"]==\"Male\", :]\n",
        "male_heights = df_male[\"Height_(cm)\"].tolist()\n",
        "female_heights = df_female[\"Height_(cm)\"].tolist()\n",
        "n_male = len(male_heights)\n",
        "n_female = len(female_heights)\n",
        "S_male = np.std(male_heights)        # Sample STD of height\n",
        "S_female = np.std(female_heights)\n",
        "mean_male = np.mean(male_heights)    # Sample mean height\n",
        "mean_female = np.mean(female_heights)\n",
        "print(\"Average height of male residents:\", round(mean_male,3))\n",
        "print(\"Average height of female residents:\", round(mean_female,3))\n",
        "print(\"(Sample) STD of heights of male residents:\", round(S_male,3))\n",
        "print(\"(Sample) STD of heights of female residents:\", round(S_female,3))\n",
        "print(\"Number of male residents (n1) = {} and number of female residents (n2) = {}\".format(n_male, n_female))\n",
        "print(\"Ratio of standard deviations (male/female):\", round(S_male/S_female,3))"
      ],
      "metadata": {
        "execution": {
          "iopub.status.busy": "2024-04-21T07:42:42.705071Z",
          "iopub.execute_input": "2024-04-21T07:42:42.705502Z",
          "iopub.status.idle": "2024-04-21T07:42:42.960013Z",
          "shell.execute_reply.started": "2024-04-21T07:42:42.705467Z",
          "shell.execute_reply": "2024-04-21T07:42:42.958888Z"
        },
        "trusted": true,
        "id": "nEs0oBwEzKV2"
      },
      "execution_count": null,
      "outputs": []
    },
    {
      "cell_type": "markdown",
      "source": [
        "We may assume that the population variances of heights of men and women are nearly equal (since the ratio of standard deviations is less than 2). Hence, we use the pooled standard deviation."
      ],
      "metadata": {
        "id": "TdCSgwv3zKV2"
      }
    },
    {
      "cell_type": "code",
      "source": [
        "var_male = np.var(male_heights)\n",
        "var_female = np.var(female_heights)\n",
        "Sp = math.sqrt(((n_male-1)*var_male + (n_female-1)*var_female)/(n_male+ n_female - 2)) #pooled STD\n",
        "print(\"Pooled STD is:\", Sp)\n",
        "\n",
        "t_test = ((mean_male - mean_female) - 14.8)/(Sp * math.sqrt((1/n_male)+(1/n_female)))\n",
        "print(\"The test statistic is:\", t_test)"
      ],
      "metadata": {
        "execution": {
          "iopub.status.busy": "2024-04-21T07:59:12.031652Z",
          "iopub.execute_input": "2024-04-21T07:59:12.032182Z",
          "iopub.status.idle": "2024-04-21T07:59:12.077637Z",
          "shell.execute_reply.started": "2024-04-21T07:59:12.032138Z",
          "shell.execute_reply": "2024-04-21T07:59:12.076308Z"
        },
        "trusted": true,
        "id": "k7knpT0yzKV2"
      },
      "execution_count": null,
      "outputs": []
    },
    {
      "cell_type": "markdown",
      "source": [
        "### Rejection Region Approach\n",
        "We reject the null hypothesis if $t_{test} \\geq t_{\\alpha,\\; n_1+n_2-2}$"
      ],
      "metadata": {
        "id": "BZrK01wAzKV2"
      }
    },
    {
      "cell_type": "code",
      "source": [
        "t_crit = stats.t.ppf(q = 1-0.05, df = n_male+n_female-2)\n",
        "print(\"Critical t-value at alpha = 0.05:\", t_crit)"
      ],
      "metadata": {
        "execution": {
          "iopub.status.busy": "2024-04-21T07:58:38.930069Z",
          "iopub.execute_input": "2024-04-21T07:58:38.930496Z",
          "iopub.status.idle": "2024-04-21T07:58:38.937888Z",
          "shell.execute_reply.started": "2024-04-21T07:58:38.930463Z",
          "shell.execute_reply": "2024-04-21T07:58:38.93635Z"
        },
        "trusted": true,
        "id": "Xaef_004zKV2"
      },
      "execution_count": null,
      "outputs": []
    },
    {
      "cell_type": "markdown",
      "source": [
        "Clearly, $t_{test} \\geq t_{\\alpha,\\; n_1+n_2-2}$, so we reject $H_0$."
      ],
      "metadata": {
        "id": "Gv7Sfld-zKV3"
      }
    },
    {
      "cell_type": "markdown",
      "source": [
        "### p-Value Approach\n",
        "p-value for right-tailed test is given by $p = P(t \\geq t_{test})$."
      ],
      "metadata": {
        "id": "gScnpwpmzKV3"
      }
    },
    {
      "cell_type": "code",
      "source": [
        "p = 1-stats.t.cdf(t_test, df=n_male+n_female-2)\n",
        "print(\"p-value:\", p)"
      ],
      "metadata": {
        "execution": {
          "iopub.status.busy": "2024-04-21T07:59:16.018798Z",
          "iopub.execute_input": "2024-04-21T07:59:16.019954Z",
          "iopub.status.idle": "2024-04-21T07:59:16.026312Z",
          "shell.execute_reply.started": "2024-04-21T07:59:16.019911Z",
          "shell.execute_reply": "2024-04-21T07:59:16.024865Z"
        },
        "trusted": true,
        "id": "vyq_ZXtUzKV3"
      },
      "execution_count": null,
      "outputs": []
    },
    {
      "cell_type": "markdown",
      "source": [
        "Clearly, $p = 0.0004 < 0.05 = \\alpha$, so we reject the null hypothesis."
      ],
      "metadata": {
        "id": "74V8bSKvzKV3"
      }
    },
    {
      "cell_type": "markdown",
      "source": [
        "### 5. Ratio of Variances: Weights of Men and Women"
      ],
      "metadata": {
        "id": "shPUINDQzKV3"
      }
    },
    {
      "cell_type": "markdown",
      "source": [
        "We want to test the claim that men have more variability in weights than women. Let $\\sigma^2_{1}$ and $\\sigma^2_{2}$ denote the population variance of weight of men and women respectively.\n",
        "\n",
        "$H_0$: Men do not have more variability in weights than women $(\\sigma^2_{1} \\leq \\sigma^2_{2})$\n",
        "\n",
        "$H_a$: Men have more variability in weights than women $(\\sigma^2_{1}> \\sigma^2_2)$"
      ],
      "metadata": {
        "id": "tGkzAbkxzKV4"
      }
    },
    {
      "cell_type": "code",
      "source": [
        "df_female = dfo.loc[dfo[\"Sex\"]==\"Female\", :]\n",
        "df_male = dfo.loc[dfo[\"Sex\"]==\"Male\", :]\n",
        "male_weights = df_male[\"Weight_(kg)\"].tolist()\n",
        "female_weights = df_female[\"Weight_(kg)\"].tolist()\n",
        "n_male = len(male_weights)\n",
        "n_female = len(female_weights)\n",
        "S_male = np.std(male_weights)        # Sample STD of weight of men\n",
        "S_female = np.std(female_weights)\n",
        "var_male = np.var(male_weights)\n",
        "var_female = np.var(female_weights)\n",
        "mean_male = np.mean(male_weights)    # Sample mean height\n",
        "mean_female = np.mean(female_weights)\n",
        "print(\"Average weight of male residents:\", round(mean_male,3))\n",
        "print(\"Average weight of female residents:\", round(mean_female,3))\n",
        "print(\"(Sample) STD of weights of male residents:\", round(S_male,3))\n",
        "print(\"(Sample) STD of weights of female residents:\", round(S_female,3))\n",
        "print(\"Number of male residents (n1) = {} and number of female residents (n2) = {}\".format(n_male, n_female))\n",
        "print(\"Ratio of variances (male/female):\", round(var_male/var_female,3))"
      ],
      "metadata": {
        "execution": {
          "iopub.status.busy": "2024-04-23T17:28:26.271776Z",
          "iopub.execute_input": "2024-04-23T17:28:26.272892Z",
          "iopub.status.idle": "2024-04-23T17:28:26.579879Z",
          "shell.execute_reply.started": "2024-04-23T17:28:26.272856Z",
          "shell.execute_reply": "2024-04-23T17:28:26.578679Z"
        },
        "trusted": true,
        "id": "1bSYjkK-zKV4"
      },
      "execution_count": null,
      "outputs": []
    },
    {
      "cell_type": "code",
      "source": [
        "F_test = var_male/var_female\n",
        "F_test"
      ],
      "metadata": {
        "execution": {
          "iopub.status.busy": "2024-04-23T17:28:28.115498Z",
          "iopub.execute_input": "2024-04-23T17:28:28.116423Z",
          "iopub.status.idle": "2024-04-23T17:28:28.123008Z",
          "shell.execute_reply.started": "2024-04-23T17:28:28.116389Z",
          "shell.execute_reply": "2024-04-23T17:28:28.121853Z"
        },
        "trusted": true,
        "id": "GClipwBezKV4"
      },
      "execution_count": null,
      "outputs": []
    },
    {
      "cell_type": "markdown",
      "source": [
        "### Rejection Region Approach\n",
        "For level $\\alpha$ with $df_1 = n_{male}-1$ and $df_2 = n_{female}-1$, we reject $H_0$ if $F_{test} \\geq F_{\\alpha,\\; df_1, \\; df_2}$"
      ],
      "metadata": {
        "id": "e4YPN0KZzKV4"
      }
    },
    {
      "cell_type": "code",
      "source": [
        "df1 = n_male-1\n",
        "df2 = n_female-1\n",
        "F_crit = stats.f.ppf(1-0.05, dfn=df1, dfd=df2)\n",
        "F_crit"
      ],
      "metadata": {
        "execution": {
          "iopub.status.busy": "2024-04-23T17:28:53.998921Z",
          "iopub.execute_input": "2024-04-23T17:28:54.000135Z",
          "iopub.status.idle": "2024-04-23T17:28:54.008135Z",
          "shell.execute_reply.started": "2024-04-23T17:28:53.999923Z",
          "shell.execute_reply": "2024-04-23T17:28:54.007026Z"
        },
        "trusted": true,
        "id": "N-7S5ZPKzKV4"
      },
      "execution_count": null,
      "outputs": []
    },
    {
      "cell_type": "markdown",
      "source": [
        "Clearly, $F_{test} \\geq F_{\\alpha,\\; df_1, \\; df_2}$, so we reject $H_0$."
      ],
      "metadata": {
        "id": "odCCRkEHzKV5"
      }
    },
    {
      "cell_type": "markdown",
      "source": [
        "### p-Value Approach\n",
        "\n",
        "p = $P(F > F_{test})$"
      ],
      "metadata": {
        "id": "R2Zh7lhczKV5"
      }
    },
    {
      "cell_type": "code",
      "source": [
        "p = 1-stats.f.cdf(x=F_test, dfn = df1, dfd = df2)\n",
        "print(\"p-value:\", p)"
      ],
      "metadata": {
        "execution": {
          "iopub.status.busy": "2024-04-23T17:32:02.72443Z",
          "iopub.execute_input": "2024-04-23T17:32:02.724832Z",
          "iopub.status.idle": "2024-04-23T17:32:02.731212Z",
          "shell.execute_reply.started": "2024-04-23T17:32:02.724802Z",
          "shell.execute_reply": "2024-04-23T17:32:02.730225Z"
        },
        "trusted": true,
        "id": "JNQE32fqzKV5"
      },
      "execution_count": null,
      "outputs": []
    },
    {
      "cell_type": "markdown",
      "source": [
        "### 6. Diabetes is More Common in Men than in Women"
      ],
      "metadata": {
        "id": "g8Og3fX0zKV5"
      }
    },
    {
      "cell_type": "markdown",
      "source": [
        "Let $p_1$ denote the proportion of diabetic men and $p_2$ denote the proportion of diabetic women.\n",
        "\n",
        "$H_0:$ Diabetes is not more common in men than in women $(p_1-p_2 \\leq 0)$\n",
        "\n",
        "$H_1:$ Diabetes is more common in men than in women $(p_1-p_2 > 0)$\n",
        "\n",
        "This is a right-tailed test."
      ],
      "metadata": {
        "id": "zi8zvwS-zKV5"
      }
    },
    {
      "cell_type": "code",
      "source": [
        "dfo.replace(to_replace=\"No, pre-diabetes or borderline diabetes\",\n",
        "           value=\"Yes\", inplace=True)\n",
        "dfo.replace(to_replace=\"Yes, but female told only during pregnancy\",\n",
        "           value=\"No\", inplace=True)\n",
        "column = 'Diabetes'\n",
        "target = 'Sex'\n",
        "\n",
        "fig,ax = plt.subplots(figsize = (7,6))\n",
        "\n",
        "#color = 'Set2'\n",
        "\n",
        "#palette_color = sns.color_palette(color)\n",
        "\n",
        "ax = sns.countplot(x = column, data=dfo, hue=target, order = dfo[column].value_counts().index)\n",
        "ax.set_ylabel('Count')\n",
        "\n",
        "offset = dfo[column].value_counts().max() * 0.005\n",
        "\n",
        "list_bars = dfo.groupby([column,target])[column].agg(['count']).unstack().fillna(0).values\n",
        "\n",
        "patches = ax.patches\n",
        "bars_pos = 0\n",
        "\n",
        "for i in range(dfo[target].nunique()):\n",
        "    for j in range(dfo[column].nunique()):\n",
        "        list_bars_col = list_bars[j]\n",
        "        total_sum = list_bars_col.sum()\n",
        "        value = list_bars_col[i]\n",
        "\n",
        "        percentage = value / total_sum\n",
        "\n",
        "        if percentage == 0:\n",
        "            bars_pos += 1\n",
        "            continue\n",
        "        else:\n",
        "            x = patches[bars_pos].get_x() + patches[j].get_width()/2\n",
        "            y = patches[bars_pos].get_height() + offset\n",
        "            ax.annotate('{:.1f}%'.format(percentage*100), (x, y), ha='center')\n",
        "            bars_pos += 1\n",
        "plt.ylabel(\"Number of People\")\n",
        "plt.title(\"Diabetes vs Gender\")\n",
        "plt.show()"
      ],
      "metadata": {
        "execution": {
          "iopub.status.busy": "2024-04-21T17:54:21.830126Z",
          "iopub.execute_input": "2024-04-21T17:54:21.830605Z",
          "iopub.status.idle": "2024-04-21T17:54:24.253742Z",
          "shell.execute_reply.started": "2024-04-21T17:54:21.83057Z",
          "shell.execute_reply": "2024-04-21T17:54:24.252216Z"
        },
        "trusted": true,
        "id": "omJagIhzzKV5"
      },
      "execution_count": null,
      "outputs": []
    },
    {
      "cell_type": "code",
      "source": [
        "df_female = dfo.loc[dfo[\"Sex\"]==\"Female\", :]\n",
        "df_male = dfo.loc[dfo[\"Sex\"]==\"Male\", :]\n",
        "\n",
        "male_diab = df_male[\"Diabetes\"]\n",
        "female_diab = df_female[\"Diabetes\"]\n",
        "male_non_diab = male_diab.value_counts().iloc[0]\n",
        "female_non_diab = female_diab.value_counts().iloc[0]\n",
        "male_diab_num = male_diab.value_counts().iloc[1]\n",
        "female_diab_num = female_diab.value_counts().iloc[1]\n",
        "n_male = len(male_diab)\n",
        "n_female = len(female_diab)\n",
        "p1 = male_diab_num/n_male       # (sample) proportion of diabetic men\n",
        "p2 = female_diab_num/n_female\n",
        "\n",
        "\n",
        "print(\"Number of diabetic men: {}, and number of men who are not diabetic: {}\".format(male_diab_num, male_non_diab))\n",
        "print(\"Number of depressed women: {}, and number of women who are not diabetic: {}\".format(female_diab_num, female_non_diab))\n",
        "\n",
        "print(\"(Sample) Proportion of diabetic men (p1):\", p1)\n",
        "print(\"(Sample) Proportion of diabetic women (p2):\", p2)"
      ],
      "metadata": {
        "execution": {
          "iopub.status.busy": "2024-04-21T17:57:29.140166Z",
          "iopub.execute_input": "2024-04-21T17:57:29.140581Z",
          "iopub.status.idle": "2024-04-21T17:57:29.480705Z",
          "shell.execute_reply.started": "2024-04-21T17:57:29.14055Z",
          "shell.execute_reply": "2024-04-21T17:57:29.47945Z"
        },
        "trusted": true,
        "id": "jg_JFE9YzKV6"
      },
      "execution_count": null,
      "outputs": []
    },
    {
      "cell_type": "code",
      "source": [
        "temp = math.sqrt(((p1*(1-p1))/n_male)+((p2*(1-p2))/n_female))\n",
        "z_test = (p1-p2)/temp\n",
        "print(\"Test statistic:\", z_test)"
      ],
      "metadata": {
        "execution": {
          "iopub.status.busy": "2024-04-21T18:06:51.386414Z",
          "iopub.execute_input": "2024-04-21T18:06:51.386874Z",
          "iopub.status.idle": "2024-04-21T18:06:51.39594Z",
          "shell.execute_reply.started": "2024-04-21T18:06:51.386841Z",
          "shell.execute_reply": "2024-04-21T18:06:51.394368Z"
        },
        "trusted": true,
        "id": "aWh_-kGtzKV6"
      },
      "execution_count": null,
      "outputs": []
    },
    {
      "cell_type": "markdown",
      "source": [
        "### Rejection Region Approach\n",
        "We reject $H_0$ if $z_{test} \\geq z_{\\alpha}$ at level of significance $\\alpha$."
      ],
      "metadata": {
        "id": "NkF_1__RzKV6"
      }
    },
    {
      "cell_type": "code",
      "source": [
        "z_crit = stats.norm.ppf(q=1-0.05)\n",
        "z_crit"
      ],
      "metadata": {
        "execution": {
          "iopub.status.busy": "2024-04-21T18:03:30.855299Z",
          "iopub.execute_input": "2024-04-21T18:03:30.855732Z",
          "iopub.status.idle": "2024-04-21T18:03:30.86704Z",
          "shell.execute_reply.started": "2024-04-21T18:03:30.855702Z",
          "shell.execute_reply": "2024-04-21T18:03:30.865749Z"
        },
        "trusted": true,
        "id": "Ud77NtW9zKV6"
      },
      "execution_count": null,
      "outputs": []
    },
    {
      "cell_type": "markdown",
      "source": [
        "Clearly, $z_{test} \\geq z_{\\alpha}$, so we reject $H_0$."
      ],
      "metadata": {
        "id": "dVPjLCFRzKV6"
      }
    },
    {
      "cell_type": "markdown",
      "source": [
        "### p-Value Approach\n",
        "p value = $P(Z > Z_{test})$. We reject $H_0$ if $p < \\alpha$."
      ],
      "metadata": {
        "id": "jwo7KdZezKV6"
      }
    },
    {
      "cell_type": "code",
      "source": [
        "p = 1 - stats.norm.cdf(z_test)\n",
        "print(\"p-value:\", p)"
      ],
      "metadata": {
        "execution": {
          "iopub.status.busy": "2024-04-21T18:05:22.411494Z",
          "iopub.execute_input": "2024-04-21T18:05:22.411925Z",
          "iopub.status.idle": "2024-04-21T18:05:22.418711Z",
          "shell.execute_reply.started": "2024-04-21T18:05:22.411895Z",
          "shell.execute_reply": "2024-04-21T18:05:22.41767Z"
        },
        "trusted": true,
        "id": "MhuH_v4izKV7"
      },
      "execution_count": null,
      "outputs": []
    },
    {
      "cell_type": "markdown",
      "source": [
        "We reject the null hypothesis."
      ],
      "metadata": {
        "id": "EaOa58fhzKV7"
      }
    },
    {
      "cell_type": "markdown",
      "source": [
        "# 3. Hypothesis Testing on Categorical Variables"
      ],
      "metadata": {
        "id": "wzUdJeYKzKV7"
      }
    },
    {
      "cell_type": "markdown",
      "source": [
        "We now test some hypotheses regarding the association of factors to heart diseases. To this end, we randomly undersample the dataset first to balance the class of \"heart disease\". There is a significant imbalance in this class with only 9% of the people having heart disease, which might cause a bias towards the majority class."
      ],
      "metadata": {
        "id": "SfgEVRNnzKV7"
      }
    },
    {
      "cell_type": "markdown",
      "source": [
        "## 3.1 Importing the Randomly Undersampled Dataset"
      ],
      "metadata": {
        "id": "FvSWYNQPzKV7"
      }
    },
    {
      "cell_type": "code",
      "source": [
        "df = pd.read_csv('/kaggle/input/undersampled-data/Undersampled_Data.csv')\n",
        "df.head()"
      ],
      "metadata": {
        "execution": {
          "iopub.status.busy": "2024-05-01T06:10:32.99619Z",
          "iopub.execute_input": "2024-05-01T06:10:32.996633Z",
          "iopub.status.idle": "2024-05-01T06:10:33.27909Z",
          "shell.execute_reply.started": "2024-05-01T06:10:32.996599Z",
          "shell.execute_reply": "2024-05-01T06:10:33.277797Z"
        },
        "trusted": true,
        "id": "LL6Kb7xUzKV7"
      },
      "execution_count": null,
      "outputs": []
    },
    {
      "cell_type": "code",
      "source": [
        "df.shape"
      ],
      "metadata": {
        "execution": {
          "iopub.status.busy": "2024-04-10T16:08:13.594155Z",
          "iopub.execute_input": "2024-04-10T16:08:13.594591Z",
          "iopub.status.idle": "2024-04-10T16:08:13.601912Z",
          "shell.execute_reply.started": "2024-04-10T16:08:13.594558Z",
          "shell.execute_reply": "2024-04-10T16:08:13.600664Z"
        },
        "trusted": true,
        "id": "m6RldMAkzKV7"
      },
      "execution_count": null,
      "outputs": []
    },
    {
      "cell_type": "markdown",
      "source": [
        "## 3.2 Is Diabetes related to Heart Disease?"
      ],
      "metadata": {
        "id": "pgvKQRWJzKV8"
      }
    },
    {
      "cell_type": "code",
      "source": [
        "target = 'Heart_Disease'"
      ],
      "metadata": {
        "execution": {
          "iopub.status.busy": "2024-04-23T16:36:21.435236Z",
          "iopub.execute_input": "2024-04-23T16:36:21.435598Z",
          "iopub.status.idle": "2024-04-23T16:36:21.440458Z",
          "shell.execute_reply.started": "2024-04-23T16:36:21.435572Z",
          "shell.execute_reply": "2024-04-23T16:36:21.439243Z"
        },
        "trusted": true,
        "id": "FT-W5zxPzKV8"
      },
      "execution_count": null,
      "outputs": []
    },
    {
      "cell_type": "code",
      "source": [
        "df.replace(to_replace=\"No, pre-diabetes or borderline diabetes\",\n",
        "           value=\"Yes\", inplace=True)\n",
        "df.replace(to_replace=\"Yes, but female told only during pregnancy\",\n",
        "           value=\"No\", inplace=True)"
      ],
      "metadata": {
        "execution": {
          "iopub.status.busy": "2024-04-11T18:41:05.351282Z",
          "iopub.execute_input": "2024-04-11T18:41:05.351741Z",
          "iopub.status.idle": "2024-04-11T18:41:05.550541Z",
          "shell.execute_reply.started": "2024-04-11T18:41:05.351699Z",
          "shell.execute_reply": "2024-04-11T18:41:05.549366Z"
        },
        "trusted": true,
        "id": "uEVcbBSyzKV8"
      },
      "execution_count": null,
      "outputs": []
    },
    {
      "cell_type": "code",
      "source": [
        "from scipy.stats import chi2_contingency\n",
        "\n",
        "table = pd.crosstab(df[\"Diabetes\"], df['Heart_Disease'])\n",
        "table"
      ],
      "metadata": {
        "execution": {
          "iopub.status.busy": "2024-04-11T18:41:08.138428Z",
          "iopub.execute_input": "2024-04-11T18:41:08.138901Z",
          "iopub.status.idle": "2024-04-11T18:41:08.185677Z",
          "shell.execute_reply.started": "2024-04-11T18:41:08.138866Z",
          "shell.execute_reply": "2024-04-11T18:41:08.184546Z"
        },
        "trusted": true,
        "id": "awBStWPnzKV9"
      },
      "execution_count": null,
      "outputs": []
    },
    {
      "cell_type": "code",
      "source": [
        "test_result = chi2_contingency(table)\n",
        "print(\"Test statistic: {}\\np-value: {}\".format(test_result[0], test_result[1]))"
      ],
      "metadata": {
        "execution": {
          "iopub.status.busy": "2024-04-10T17:27:29.520836Z",
          "iopub.execute_input": "2024-04-10T17:27:29.521238Z",
          "iopub.status.idle": "2024-04-10T17:27:29.530174Z",
          "shell.execute_reply.started": "2024-04-10T17:27:29.521206Z",
          "shell.execute_reply": "2024-04-10T17:27:29.528292Z"
        },
        "trusted": true,
        "id": "B9tfsgkazKV9"
      },
      "execution_count": null,
      "outputs": []
    },
    {
      "cell_type": "code",
      "source": [
        "sns.heatmap(table, annot=True)\n",
        "plt.xlabel(\"Heart Disease\")\n",
        "plt.title(\"Heatmap: Diabetes vs Heart Disease\")"
      ],
      "metadata": {
        "execution": {
          "iopub.status.busy": "2024-04-11T18:27:38.790757Z",
          "iopub.execute_input": "2024-04-11T18:27:38.791382Z",
          "iopub.status.idle": "2024-04-11T18:27:39.161787Z",
          "shell.execute_reply.started": "2024-04-11T18:27:38.791338Z",
          "shell.execute_reply": "2024-04-11T18:27:39.16059Z"
        },
        "trusted": true,
        "id": "EZJ-99cszKV9"
      },
      "execution_count": null,
      "outputs": []
    },
    {
      "cell_type": "markdown",
      "source": [
        "- As $\\chi^2_{test} > \\chi^2_{critical}$, we reject the null hypothesis $H_0$.\n",
        "- Also, $p \\approx 0 < 0.05 = \\alpha$, so the p-value approach also leads us to rejecting $H_0$.\n",
        "\n",
        "Hence, diabetes is related with heart diseases."
      ],
      "metadata": {
        "id": "_Xh1-MzOzKV9"
      }
    },
    {
      "cell_type": "code",
      "source": [
        "#Diabetes vs Heart Disease\n",
        "\n",
        "column = 'Diabetes'\n",
        "\n",
        "fig,ax = plt.subplots(figsize = (6,5))\n",
        "\n",
        "#color = 'Set2'\n",
        "\n",
        "#palette_color = sns.color_palette(color)\n",
        "\n",
        "ax = sns.countplot(x = column, data=df, hue=target, order = df[column].value_counts().index)\n",
        "ax.set_ylabel('Count')\n",
        "\n",
        "offset = df[column].value_counts().max() * 0.005\n",
        "\n",
        "list_bars = df.groupby([column,target])[column].agg(['count']).unstack().fillna(0).values\n",
        "\n",
        "patches = ax.patches\n",
        "bars_pos = 0\n",
        "\n",
        "for i in range(df[target].nunique()):\n",
        "    for j in range(df[column].nunique()):\n",
        "        list_bars_col = list_bars[j]\n",
        "        total_sum = list_bars_col.sum()\n",
        "        value = list_bars_col[i]\n",
        "\n",
        "        percentage = value / total_sum\n",
        "\n",
        "        if percentage == 0:\n",
        "            bars_pos += 1\n",
        "            continue\n",
        "        else:\n",
        "            x = patches[bars_pos].get_x() + patches[j].get_width()/2\n",
        "            y = patches[bars_pos].get_height() + offset\n",
        "            ax.annotate('{:.1f}%'.format(percentage*100), (x, y), ha='center')\n",
        "            bars_pos += 1\n",
        "\n",
        "plt.ylabel(\"Number of People\")\n",
        "plt.title(\"Diabetes vs Heart Disease\")\n",
        "plt.show()"
      ],
      "metadata": {
        "execution": {
          "iopub.status.busy": "2024-04-11T18:23:41.950462Z",
          "iopub.execute_input": "2024-04-11T18:23:41.950962Z",
          "iopub.status.idle": "2024-04-11T18:23:42.408874Z",
          "shell.execute_reply.started": "2024-04-11T18:23:41.950924Z",
          "shell.execute_reply": "2024-04-11T18:23:42.407676Z"
        },
        "trusted": true,
        "id": "vGcmVYY4zKV9"
      },
      "execution_count": null,
      "outputs": []
    },
    {
      "cell_type": "markdown",
      "source": [
        "## 3.3 Is Arthritis related to Heart Disease?"
      ],
      "metadata": {
        "id": "yiPeGI75zKV-"
      }
    },
    {
      "cell_type": "code",
      "source": [
        "table = pd.crosstab(df[\"Arthritis\"], df['Heart_Disease'])\n",
        "table"
      ],
      "metadata": {
        "execution": {
          "iopub.status.busy": "2024-04-11T18:47:18.541038Z",
          "iopub.execute_input": "2024-04-11T18:47:18.541775Z",
          "iopub.status.idle": "2024-04-11T18:47:18.570162Z",
          "shell.execute_reply.started": "2024-04-11T18:47:18.541739Z",
          "shell.execute_reply": "2024-04-11T18:47:18.569223Z"
        },
        "trusted": true,
        "id": "ro9GdCSjzKV-"
      },
      "execution_count": null,
      "outputs": []
    },
    {
      "cell_type": "code",
      "source": [
        "sns.heatmap(table, annot=True)\n",
        "plt.xlabel(\"Heart Disease\")\n",
        "plt.title(\"Heatmap: Arthritis vs Heart Disease\")"
      ],
      "metadata": {
        "execution": {
          "iopub.status.busy": "2024-04-11T18:28:21.377361Z",
          "iopub.execute_input": "2024-04-11T18:28:21.377768Z",
          "iopub.status.idle": "2024-04-11T18:28:21.707725Z",
          "shell.execute_reply.started": "2024-04-11T18:28:21.377728Z",
          "shell.execute_reply": "2024-04-11T18:28:21.706761Z"
        },
        "trusted": true,
        "id": "oSTcRP17zKV-"
      },
      "execution_count": null,
      "outputs": []
    },
    {
      "cell_type": "code",
      "source": [
        "test_result = chi2_contingency(table)\n",
        "print(\"Test statistic: {}\\np-value: {}\".format(test_result[0], test_result[1]))"
      ],
      "metadata": {
        "execution": {
          "iopub.status.busy": "2024-04-10T17:59:27.13823Z",
          "iopub.execute_input": "2024-04-10T17:59:27.139445Z",
          "iopub.status.idle": "2024-04-10T17:59:27.146455Z",
          "shell.execute_reply.started": "2024-04-10T17:59:27.139404Z",
          "shell.execute_reply": "2024-04-10T17:59:27.145448Z"
        },
        "trusted": true,
        "id": "VdavHXqwzKV-"
      },
      "execution_count": null,
      "outputs": []
    },
    {
      "cell_type": "markdown",
      "source": [
        "- As $\\chi^2_{test} > \\chi^2_{critical}$, we reject the null hypothesis $H_0$.\n",
        "- $p \\approx 0 < 0.05 = \\alpha$, so we reject $H_0$ through the p-value approach as well.\n",
        "\n",
        "Thus, arthritis is associated with heart diseases."
      ],
      "metadata": {
        "id": "ZzzDdMTdzKV-"
      }
    },
    {
      "cell_type": "code",
      "source": [
        "column = 'Arthritis'\n",
        "\n",
        "fig,ax = plt.subplots(figsize = (7,6))\n",
        "\n",
        "#color = 'Set2'\n",
        "\n",
        "#palette_color = sns.color_palette(color)\n",
        "\n",
        "ax = sns.countplot(x = column, data=df, hue=target, order = df[column].value_counts().index)\n",
        "ax.set_ylabel('Count')\n",
        "\n",
        "offset = df[column].value_counts().max() * 0.005\n",
        "\n",
        "list_bars = df.groupby([column,target])[column].agg(['count']).unstack().fillna(0).values\n",
        "\n",
        "patches = ax.patches\n",
        "bars_pos = 0\n",
        "\n",
        "for i in range(df[target].nunique()):\n",
        "    for j in range(df[column].nunique()):\n",
        "        list_bars_col = list_bars[j]\n",
        "        total_sum = list_bars_col.sum()\n",
        "        value = list_bars_col[i]\n",
        "\n",
        "        percentage = value / total_sum\n",
        "\n",
        "        if percentage == 0:\n",
        "            bars_pos += 1\n",
        "            continue\n",
        "        else:\n",
        "            x = patches[bars_pos].get_x() + patches[j].get_width()/2\n",
        "            y = patches[bars_pos].get_height() + offset\n",
        "            ax.annotate('{:.1f}%'.format(percentage*100), (x, y), ha='center')\n",
        "            bars_pos += 1\n",
        "plt.ylabel(\"Number of People\")\n",
        "plt.title(\"Arthritis vs Heart Disease\")\n",
        "plt.show()"
      ],
      "metadata": {
        "execution": {
          "iopub.status.busy": "2024-04-11T18:28:43.187721Z",
          "iopub.execute_input": "2024-04-11T18:28:43.188501Z",
          "iopub.status.idle": "2024-04-11T18:28:43.64488Z",
          "shell.execute_reply.started": "2024-04-11T18:28:43.188461Z",
          "shell.execute_reply": "2024-04-11T18:28:43.643682Z"
        },
        "trusted": true,
        "id": "8NLFxWRUzKV-"
      },
      "execution_count": null,
      "outputs": []
    },
    {
      "cell_type": "markdown",
      "source": [
        "## 3.4 Is Age Associated with Heart Disease?"
      ],
      "metadata": {
        "id": "jADLYgZKzKV_"
      }
    },
    {
      "cell_type": "code",
      "source": [
        "table = pd.crosstab(df[\"Age_Category\"], df['Heart_Disease'])\n",
        "table"
      ],
      "metadata": {
        "execution": {
          "iopub.status.busy": "2024-04-23T16:40:31.978888Z",
          "iopub.execute_input": "2024-04-23T16:40:31.979293Z",
          "iopub.status.idle": "2024-04-23T16:40:32.005794Z",
          "shell.execute_reply.started": "2024-04-23T16:40:31.979265Z",
          "shell.execute_reply": "2024-04-23T16:40:32.004842Z"
        },
        "trusted": true,
        "id": "AkVYdaFYzKV_"
      },
      "execution_count": null,
      "outputs": []
    },
    {
      "cell_type": "code",
      "source": [
        "sns.heatmap(table, annot=True, cmap='Reds')\n",
        "plt.xlabel(\"Heart Disease\")\n",
        "plt.title(\"Heatmap: Age Category vs Heart Disease\")"
      ],
      "metadata": {
        "execution": {
          "iopub.status.busy": "2024-04-23T16:43:40.798622Z",
          "iopub.execute_input": "2024-04-23T16:43:40.79932Z",
          "iopub.status.idle": "2024-04-23T16:43:41.270752Z",
          "shell.execute_reply.started": "2024-04-23T16:43:40.799286Z",
          "shell.execute_reply": "2024-04-23T16:43:41.269416Z"
        },
        "trusted": true,
        "id": "HR0BOTIjzKWF"
      },
      "execution_count": null,
      "outputs": []
    },
    {
      "cell_type": "code",
      "source": [
        "test_result = chi2_contingency(table)\n",
        "print(\"Test statistic: {}\\np-value: {}\".format(test_result[0], test_result[1]))"
      ],
      "metadata": {
        "execution": {
          "iopub.status.busy": "2024-04-23T16:47:57.129083Z",
          "iopub.execute_input": "2024-04-23T16:47:57.129857Z",
          "iopub.status.idle": "2024-04-23T16:47:57.136866Z",
          "shell.execute_reply.started": "2024-04-23T16:47:57.129823Z",
          "shell.execute_reply": "2024-04-23T16:47:57.135636Z"
        },
        "trusted": true,
        "id": "WhZnhbNHzKWF"
      },
      "execution_count": null,
      "outputs": []
    },
    {
      "cell_type": "markdown",
      "source": [
        "- As $\\chi^2_{test} > \\chi^2_{critical}$, we reject the null hypothesis $H_0$.\n",
        "- $p \\approx 0 < 0.05 = \\alpha$, so we reject $H_0$ through the p-value approach as well.\n",
        "\n",
        "Hence, we conclude that we have enough statistical evidence to claim that age is related to heart diseases."
      ],
      "metadata": {
        "id": "s16pBrTMzKWF"
      }
    },
    {
      "cell_type": "markdown",
      "source": [
        "# 4. Fruits & Vegetables Consumption vs Heart Disease"
      ],
      "metadata": {
        "id": "zKn1puOhzKWG"
      }
    },
    {
      "cell_type": "code",
      "source": [
        "sns.boxplot(x=df[\"Heart_Disease\"], y=df[\"Fruit_Consumption\"], whis=(0,100), orient='v')\n",
        "plt.title(\"Fruits Consumption vs Heart Disease: Boxplot\")\n",
        "plt.xlabel(\"Heart Disease\")\n",
        "plt.ylabel(\"Fruits Consumed (Monthly Average)\")\n",
        "plt.show()"
      ],
      "metadata": {
        "execution": {
          "iopub.status.busy": "2024-05-01T06:39:34.186027Z",
          "iopub.execute_input": "2024-05-01T06:39:34.186412Z",
          "iopub.status.idle": "2024-05-01T06:39:34.502542Z",
          "shell.execute_reply.started": "2024-05-01T06:39:34.186382Z",
          "shell.execute_reply": "2024-05-01T06:39:34.501214Z"
        },
        "trusted": true,
        "id": "MB42Ph9zzKWG"
      },
      "execution_count": null,
      "outputs": []
    },
    {
      "cell_type": "code",
      "source": [
        "sns.boxplot(data=df, x=df[\"Heart_Disease\"], y=df[\"Green_Vegetables_Consumption\"], whis=(0,100), orient='v')\n",
        "plt.title(\"Green Vegetables Consumption vs Heart Disease: Boxplot\")\n",
        "plt.xlabel(\"Heart Disease\")\n",
        "plt.ylabel(\"Green Vegetables Consumed (Monthly Average)\")\n",
        "plt.show()"
      ],
      "metadata": {
        "execution": {
          "iopub.status.busy": "2024-05-01T06:38:49.277929Z",
          "iopub.execute_input": "2024-05-01T06:38:49.278316Z",
          "iopub.status.idle": "2024-05-01T06:38:49.642523Z",
          "shell.execute_reply.started": "2024-05-01T06:38:49.278287Z",
          "shell.execute_reply": "2024-05-01T06:38:49.641029Z"
        },
        "trusted": true,
        "id": "Tp1Ptt-czKWG"
      },
      "execution_count": null,
      "outputs": []
    },
    {
      "cell_type": "markdown",
      "source": [
        "**Author:** Rajdeep Pathak\n",
        "\n",
        "Department of Mathematics and Computing, IIT Hyderabad\n",
        "\n",
        "**Date:** 03/05/2024"
      ],
      "metadata": {
        "id": "0m0Bt_yfzKWG"
      }
    }
  ]
}